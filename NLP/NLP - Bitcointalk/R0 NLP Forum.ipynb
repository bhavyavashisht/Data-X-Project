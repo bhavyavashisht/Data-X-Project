{
 "cells": [
  {
   "cell_type": "code",
   "execution_count": 106,
   "metadata": {
    "collapsed": true
   },
   "outputs": [],
   "source": [
    "import json\n",
    "import pandas as pd\n",
    "import matplotlib.pyplot as plt\n",
    "%matplotlib inline\n",
    "import numpy as np"
   ]
  },
  {
   "cell_type": "code",
   "execution_count": 2,
   "metadata": {
    "collapsed": true
   },
   "outputs": [],
   "source": [
    "data = json.load(open('bitcointalk_1.json'))"
   ]
  },
  {
   "cell_type": "code",
   "execution_count": 3,
   "metadata": {},
   "outputs": [
    {
     "name": "stderr",
     "output_type": "stream",
     "text": [
      "IOPub data rate exceeded.\n",
      "The notebook server will temporarily stop sending output\n",
      "to the client in order to avoid crashing it.\n",
      "To change this limit, set the config variable\n",
      "`--NotebookApp.iopub_data_rate_limit`.\n"
     ]
    }
   ],
   "source": [
    "data"
   ]
  },
  {
   "cell_type": "code",
   "execution_count": 4,
   "metadata": {},
   "outputs": [
    {
     "data": {
      "text/plain": [
       "dict"
      ]
     },
     "execution_count": 4,
     "metadata": {},
     "output_type": "execute_result"
    }
   ],
   "source": [
    "type(data)"
   ]
  },
  {
   "cell_type": "code",
   "execution_count": 5,
   "metadata": {},
   "outputs": [
    {
     "data": {
      "text/plain": [
       "36"
      ]
     },
     "execution_count": 5,
     "metadata": {},
     "output_type": "execute_result"
    }
   ],
   "source": [
    "len(data['posts'])"
   ]
  },
  {
   "cell_type": "code",
   "execution_count": 57,
   "metadata": {
    "collapsed": true
   },
   "outputs": [],
   "source": [
    "test = data['posts'][0]['content']"
   ]
  },
  {
   "cell_type": "code",
   "execution_count": 74,
   "metadata": {
    "collapsed": true
   },
   "outputs": [],
   "source": [
    "x=[]\n",
    "num_replies = len(data['posts'][0]['replies'])\n",
    "for i in range(0,num_replies):\n",
    "    x.append(data['posts'][0]['replies'][i]['content'])"
   ]
  },
  {
   "cell_type": "code",
   "execution_count": 95,
   "metadata": {},
   "outputs": [
    {
     "data": {
      "text/plain": [
       "str"
      ]
     },
     "execution_count": 95,
     "metadata": {},
     "output_type": "execute_result"
    }
   ],
   "source": [
    "type(data['posts'][0]['content'])"
   ]
  },
  {
   "cell_type": "code",
   "execution_count": 60,
   "metadata": {
    "collapsed": true
   },
   "outputs": [],
   "source": [
    "import re\n",
    "temp=(re.sub(r'\\s+', ' ', data['posts'][0]['content']))"
   ]
  },
  {
   "cell_type": "code",
   "execution_count": 61,
   "metadata": {},
   "outputs": [
    {
     "data": {
      "text/plain": [
       "'Why is it smart to invest in Bitcoin? '"
      ]
     },
     "execution_count": 61,
     "metadata": {},
     "output_type": "execute_result"
    }
   ],
   "source": [
    "temp"
   ]
  },
  {
   "cell_type": "code",
   "execution_count": 4,
   "metadata": {},
   "outputs": [
    {
     "data": {
      "text/plain": [
       "2"
      ]
     },
     "execution_count": 4,
     "metadata": {},
     "output_type": "execute_result"
    }
   ],
   "source": [
    "text=[]\n",
    "text.append(data['posts'][0]['content'])\n",
    "text.append(data['posts'][0]['replies'][0]['content'])\n",
    "len(text)"
   ]
  },
  {
   "cell_type": "code",
   "execution_count": 111,
   "metadata": {},
   "outputs": [
    {
     "data": {
      "text/plain": [
       "2"
      ]
     },
     "execution_count": 111,
     "metadata": {},
     "output_type": "execute_result"
    }
   ],
   "source": [
    "len(data['posts'][4])"
   ]
  },
  {
   "cell_type": "code",
   "execution_count": 62,
   "metadata": {
    "collapsed": true
   },
   "outputs": [],
   "source": [
    "date=[]\n",
    "text=[]\n",
    "for i in range(0,len(data['posts'])):\n",
    "    temp=(re.sub(r'\\s+', ' ', data['posts'][i]['content']))\n",
    "    text.append(temp)\n",
    "    date.append(data['posts'][i]['date'])\n",
    "    num_replies = len(data['posts'][i]['replies'])\n",
    "    for j in range(0,num_replies):\n",
    "        temp2=(re.sub(r'\\s+', ' ', data['posts'][i]['replies'][j]['content']))\n",
    "        text.append(temp2)\n",
    "        date.append(data['posts'][i]['replies'][j]['date'])"
   ]
  },
  {
   "cell_type": "code",
   "execution_count": 54,
   "metadata": {},
   "outputs": [
    {
     "data": {
      "text/plain": [
       "2"
      ]
     },
     "execution_count": 54,
     "metadata": {},
     "output_type": "execute_result"
    }
   ],
   "source": [
    "len(x) # Each post has Content, Date, Replies, Topic, Views and Each reply has Content and Date"
   ]
  },
  {
   "cell_type": "code",
   "execution_count": 50,
   "metadata": {},
   "outputs": [
    {
     "data": {
      "text/plain": [
       "'The policy to not remove anything worked when the forum was small. Now that we have thousands of posts a day, we can\\'t afford 50% of them being junk. The moderators are now instructed to be less tolerant of low-value posts.\\nSome guidelines:\\n1. Free speech - you can say anything as long as it is relevant and presented in a calm and polite manner. Swearing, SHOUTING etc. make your post more likely to be removed.\\n2. No zero value posts or threads, like \"SELL SELL SELL\"\\n3. No pointless or uninteresting threads.\\n4. No referral code spam\\n5. No NSFW content\\n'"
      ]
     },
     "execution_count": 50,
     "metadata": {},
     "output_type": "execute_result"
    }
   ],
   "source": [
    "x['content']"
   ]
  },
  {
   "cell_type": "code",
   "execution_count": 63,
   "metadata": {},
   "outputs": [
    {
     "data": {
      "text/plain": [
       "21006"
      ]
     },
     "execution_count": 63,
     "metadata": {},
     "output_type": "execute_result"
    }
   ],
   "source": [
    "len(text)"
   ]
  },
  {
   "cell_type": "code",
   "execution_count": 64,
   "metadata": {},
   "outputs": [
    {
     "data": {
      "text/plain": [
       "21006"
      ]
     },
     "execution_count": 64,
     "metadata": {},
     "output_type": "execute_result"
    }
   ],
   "source": [
    "len(date)"
   ]
  },
  {
   "cell_type": "code",
   "execution_count": 65,
   "metadata": {
    "collapsed": true
   },
   "outputs": [],
   "source": [
    "t1 = pd.Series(date)\n",
    "t2 = pd.Series(text)\n",
    "record = pd.concat([t1,t2],axis=1)"
   ]
  },
  {
   "cell_type": "code",
   "execution_count": 66,
   "metadata": {},
   "outputs": [
    {
     "data": {
      "text/html": [
       "<div>\n",
       "<style>\n",
       "    .dataframe thead tr:only-child th {\n",
       "        text-align: right;\n",
       "    }\n",
       "\n",
       "    .dataframe thead th {\n",
       "        text-align: left;\n",
       "    }\n",
       "\n",
       "    .dataframe tbody tr th {\n",
       "        vertical-align: top;\n",
       "    }\n",
       "</style>\n",
       "<table border=\"1\" class=\"dataframe\">\n",
       "  <thead>\n",
       "    <tr style=\"text-align: right;\">\n",
       "      <th></th>\n",
       "      <th>0</th>\n",
       "      <th>1</th>\n",
       "    </tr>\n",
       "  </thead>\n",
       "  <tbody>\n",
       "    <tr>\n",
       "      <th>0</th>\n",
       "      <td>2017-09-06 21:04:53</td>\n",
       "      <td>Why is it smart to invest in Bitcoin?</td>\n",
       "    </tr>\n",
       "    <tr>\n",
       "      <th>1</th>\n",
       "      <td>2017-09-06 21:07:37</td>\n",
       "      <td>Investing in bitcoin would be a very smart inv...</td>\n",
       "    </tr>\n",
       "    <tr>\n",
       "      <th>2</th>\n",
       "      <td>2017-09-06 21:31:46</td>\n",
       "      <td>Why is it smart to invest in Bitcoin? You can ...</td>\n",
       "    </tr>\n",
       "    <tr>\n",
       "      <th>3</th>\n",
       "      <td>2017-09-06 21:35:36</td>\n",
       "      <td>Its a currency that has continued to grow and ...</td>\n",
       "    </tr>\n",
       "    <tr>\n",
       "      <th>4</th>\n",
       "      <td>2017-09-06 21:40:29</td>\n",
       "      <td>It's worth to buy because people believe that ...</td>\n",
       "    </tr>\n",
       "  </tbody>\n",
       "</table>\n",
       "</div>"
      ],
      "text/plain": [
       "                     0                                                  1\n",
       "0  2017-09-06 21:04:53             Why is it smart to invest in Bitcoin? \n",
       "1  2017-09-06 21:07:37  Investing in bitcoin would be a very smart inv...\n",
       "2  2017-09-06 21:31:46  Why is it smart to invest in Bitcoin? You can ...\n",
       "3  2017-09-06 21:35:36  Its a currency that has continued to grow and ...\n",
       "4  2017-09-06 21:40:29  It's worth to buy because people believe that ..."
      ]
     },
     "execution_count": 66,
     "metadata": {},
     "output_type": "execute_result"
    }
   ],
   "source": [
    "record.head()"
   ]
  },
  {
   "cell_type": "code",
   "execution_count": 67,
   "metadata": {
    "collapsed": true
   },
   "outputs": [],
   "source": [
    "record = record.rename(columns = {0:'Date',1:'Post'})"
   ]
  },
  {
   "cell_type": "code",
   "execution_count": 68,
   "metadata": {
    "collapsed": true
   },
   "outputs": [],
   "source": [
    "record['Date'] = pd.to_datetime(record['Date']).dt.date"
   ]
  },
  {
   "cell_type": "code",
   "execution_count": 69,
   "metadata": {
    "collapsed": true
   },
   "outputs": [],
   "source": [
    "A=record['Date'].tolist()"
   ]
  },
  {
   "cell_type": "code",
   "execution_count": 70,
   "metadata": {
    "collapsed": true
   },
   "outputs": [],
   "source": [
    "a = pd.Series(sorted(A, reverse=True))"
   ]
  },
  {
   "cell_type": "code",
   "execution_count": 71,
   "metadata": {
    "collapsed": true
   },
   "outputs": [],
   "source": [
    "record_n = pd.concat([a,t2],axis=1)"
   ]
  },
  {
   "cell_type": "code",
   "execution_count": 88,
   "metadata": {
    "collapsed": true
   },
   "outputs": [],
   "source": [
    "record_n = record_n.rename(columns = {0:'Date',1:'Post'})"
   ]
  },
  {
   "cell_type": "code",
   "execution_count": 89,
   "metadata": {},
   "outputs": [
    {
     "data": {
      "text/html": [
       "<div>\n",
       "<style>\n",
       "    .dataframe thead tr:only-child th {\n",
       "        text-align: right;\n",
       "    }\n",
       "\n",
       "    .dataframe thead th {\n",
       "        text-align: left;\n",
       "    }\n",
       "\n",
       "    .dataframe tbody tr th {\n",
       "        vertical-align: top;\n",
       "    }\n",
       "</style>\n",
       "<table border=\"1\" class=\"dataframe\">\n",
       "  <thead>\n",
       "    <tr style=\"text-align: right;\">\n",
       "      <th></th>\n",
       "      <th>Date</th>\n",
       "      <th>Post</th>\n",
       "    </tr>\n",
       "  </thead>\n",
       "  <tbody>\n",
       "    <tr>\n",
       "      <th>21001</th>\n",
       "      <td>2011-01-12</td>\n",
       "      <td>Hi, I'm a newbie here in bitcoin and I'm not t...</td>\n",
       "    </tr>\n",
       "    <tr>\n",
       "      <th>21002</th>\n",
       "      <td>2011-01-12</td>\n",
       "      <td>of course you can, almost all bounty provide b...</td>\n",
       "    </tr>\n",
       "    <tr>\n",
       "      <th>21003</th>\n",
       "      <td>2011-01-12</td>\n",
       "      <td>Yes you can earn bitcoins by joining in social...</td>\n",
       "    </tr>\n",
       "    <tr>\n",
       "      <th>21004</th>\n",
       "      <td>2011-01-12</td>\n",
       "      <td>Hi, I'm a newbie here in bitcoin and I'm not t...</td>\n",
       "    </tr>\n",
       "    <tr>\n",
       "      <th>21005</th>\n",
       "      <td>2011-01-12</td>\n",
       "      <td>Hi, I am relatively new to crypto world. But l...</td>\n",
       "    </tr>\n",
       "  </tbody>\n",
       "</table>\n",
       "</div>"
      ],
      "text/plain": [
       "             Date                                               Post\n",
       "21001  2011-01-12  Hi, I'm a newbie here in bitcoin and I'm not t...\n",
       "21002  2011-01-12  of course you can, almost all bounty provide b...\n",
       "21003  2011-01-12  Yes you can earn bitcoins by joining in social...\n",
       "21004  2011-01-12  Hi, I'm a newbie here in bitcoin and I'm not t...\n",
       "21005  2011-01-12  Hi, I am relatively new to crypto world. But l..."
      ]
     },
     "execution_count": 89,
     "metadata": {},
     "output_type": "execute_result"
    }
   ],
   "source": [
    "record_n.tail()"
   ]
  },
  {
   "cell_type": "code",
   "execution_count": 75,
   "metadata": {
    "collapsed": true
   },
   "outputs": [],
   "source": [
    "col_names = ['Date','Price']\n",
    "btc = pd.read_csv('btc_price.csv',header=None,names=col_names)"
   ]
  },
  {
   "cell_type": "code",
   "execution_count": 84,
   "metadata": {},
   "outputs": [
    {
     "name": "stdout",
     "output_type": "stream",
     "text": [
      "(365, 3)\n"
     ]
    },
    {
     "data": {
      "text/html": [
       "<div>\n",
       "<style>\n",
       "    .dataframe thead tr:only-child th {\n",
       "        text-align: right;\n",
       "    }\n",
       "\n",
       "    .dataframe thead th {\n",
       "        text-align: left;\n",
       "    }\n",
       "\n",
       "    .dataframe tbody tr th {\n",
       "        vertical-align: top;\n",
       "    }\n",
       "</style>\n",
       "<table border=\"1\" class=\"dataframe\">\n",
       "  <thead>\n",
       "    <tr style=\"text-align: right;\">\n",
       "      <th></th>\n",
       "      <th>Date</th>\n",
       "      <th>Price</th>\n",
       "      <th>Sentiment</th>\n",
       "    </tr>\n",
       "  </thead>\n",
       "  <tbody>\n",
       "    <tr>\n",
       "      <th>0</th>\n",
       "      <td>2016-12-04</td>\n",
       "      <td>764.816250</td>\n",
       "      <td>0</td>\n",
       "    </tr>\n",
       "    <tr>\n",
       "      <th>1</th>\n",
       "      <td>2016-12-05</td>\n",
       "      <td>754.639750</td>\n",
       "      <td>0</td>\n",
       "    </tr>\n",
       "    <tr>\n",
       "      <th>2</th>\n",
       "      <td>2016-12-06</td>\n",
       "      <td>756.621500</td>\n",
       "      <td>1</td>\n",
       "    </tr>\n",
       "    <tr>\n",
       "      <th>3</th>\n",
       "      <td>2016-12-07</td>\n",
       "      <td>766.116638</td>\n",
       "      <td>1</td>\n",
       "    </tr>\n",
       "    <tr>\n",
       "      <th>4</th>\n",
       "      <td>2016-12-08</td>\n",
       "      <td>769.729750</td>\n",
       "      <td>1</td>\n",
       "    </tr>\n",
       "  </tbody>\n",
       "</table>\n",
       "</div>"
      ],
      "text/plain": [
       "         Date       Price  Sentiment\n",
       "0  2016-12-04  764.816250          0\n",
       "1  2016-12-05  754.639750          0\n",
       "2  2016-12-06  756.621500          1\n",
       "3  2016-12-07  766.116638          1\n",
       "4  2016-12-08  769.729750          1"
      ]
     },
     "execution_count": 84,
     "metadata": {},
     "output_type": "execute_result"
    }
   ],
   "source": [
    "print(btc.shape)\n",
    "btc.head()"
   ]
  },
  {
   "cell_type": "code",
   "execution_count": 78,
   "metadata": {
    "collapsed": true
   },
   "outputs": [],
   "source": [
    "#Setting labels for the Bitcoin prices to perform Sentiment Analysis\n",
    "label=[]\n",
    "for i in range(1,btc.shape[0]):\n",
    "    if (btc.iat[i,1]>btc.iat[i-1,1]):\n",
    "        btc.loc[btc.index[i],'Sentiment']=1\n",
    "    else:\n",
    "        btc.loc[btc.index[i],'Sentiment']=0\n",
    "btc.loc[btc.index[0],'Sentiment']=0 #To match indices with btc. This false value will anyway go away when we trim BTC to match record df.\n",
    "btc['Sentiment'] = btc['Sentiment'].astype(int)"
   ]
  },
  {
   "cell_type": "code",
   "execution_count": 79,
   "metadata": {
    "collapsed": true
   },
   "outputs": [],
   "source": [
    "btc['Date'] = pd.to_datetime(btc['Date']).dt.date"
   ]
  },
  {
   "cell_type": "code",
   "execution_count": 80,
   "metadata": {},
   "outputs": [
    {
     "data": {
      "text/html": [
       "<div>\n",
       "<style>\n",
       "    .dataframe thead tr:only-child th {\n",
       "        text-align: right;\n",
       "    }\n",
       "\n",
       "    .dataframe thead th {\n",
       "        text-align: left;\n",
       "    }\n",
       "\n",
       "    .dataframe tbody tr th {\n",
       "        vertical-align: top;\n",
       "    }\n",
       "</style>\n",
       "<table border=\"1\" class=\"dataframe\">\n",
       "  <thead>\n",
       "    <tr style=\"text-align: right;\">\n",
       "      <th></th>\n",
       "      <th>Date</th>\n",
       "      <th>Price</th>\n",
       "      <th>Sentiment</th>\n",
       "    </tr>\n",
       "  </thead>\n",
       "  <tbody>\n",
       "    <tr>\n",
       "      <th>360</th>\n",
       "      <td>2017-11-29</td>\n",
       "      <td>9879.328333</td>\n",
       "      <td>0</td>\n",
       "    </tr>\n",
       "    <tr>\n",
       "      <th>361</th>\n",
       "      <td>2017-11-30</td>\n",
       "      <td>10147.372000</td>\n",
       "      <td>1</td>\n",
       "    </tr>\n",
       "    <tr>\n",
       "      <th>362</th>\n",
       "      <td>2017-12-01</td>\n",
       "      <td>10883.912000</td>\n",
       "      <td>1</td>\n",
       "    </tr>\n",
       "    <tr>\n",
       "      <th>363</th>\n",
       "      <td>2017-12-02</td>\n",
       "      <td>11071.368333</td>\n",
       "      <td>1</td>\n",
       "    </tr>\n",
       "    <tr>\n",
       "      <th>364</th>\n",
       "      <td>2017-12-03</td>\n",
       "      <td>11332.622000</td>\n",
       "      <td>1</td>\n",
       "    </tr>\n",
       "  </tbody>\n",
       "</table>\n",
       "</div>"
      ],
      "text/plain": [
       "           Date         Price  Sentiment\n",
       "360  2017-11-29   9879.328333          0\n",
       "361  2017-11-30  10147.372000          1\n",
       "362  2017-12-01  10883.912000          1\n",
       "363  2017-12-02  11071.368333          1\n",
       "364  2017-12-03  11332.622000          1"
      ]
     },
     "execution_count": 80,
     "metadata": {},
     "output_type": "execute_result"
    }
   ],
   "source": [
    "btc.tail()"
   ]
  },
  {
   "cell_type": "code",
   "execution_count": 94,
   "metadata": {},
   "outputs": [
    {
     "data": {
      "text/html": [
       "<div>\n",
       "<style>\n",
       "    .dataframe thead tr:only-child th {\n",
       "        text-align: right;\n",
       "    }\n",
       "\n",
       "    .dataframe thead th {\n",
       "        text-align: left;\n",
       "    }\n",
       "\n",
       "    .dataframe tbody tr th {\n",
       "        vertical-align: top;\n",
       "    }\n",
       "</style>\n",
       "<table border=\"1\" class=\"dataframe\">\n",
       "  <thead>\n",
       "    <tr style=\"text-align: right;\">\n",
       "      <th></th>\n",
       "      <th>Date</th>\n",
       "      <th>Post</th>\n",
       "    </tr>\n",
       "  </thead>\n",
       "  <tbody>\n",
       "  </tbody>\n",
       "</table>\n",
       "</div>"
      ],
      "text/plain": [
       "Empty DataFrame\n",
       "Columns: [Date, Post]\n",
       "Index: []"
      ]
     },
     "execution_count": 94,
     "metadata": {},
     "output_type": "execute_result"
    }
   ],
   "source": [
    "value = ['2016-12-12']\n",
    "record_n[record_n.Date.isin(value)]"
   ]
  },
  {
   "cell_type": "code",
   "execution_count": 95,
   "metadata": {
    "collapsed": true
   },
   "outputs": [],
   "source": [
    "temp = record_n.merge(btc, on='Date', how='inner')"
   ]
  },
  {
   "cell_type": "code",
   "execution_count": 99,
   "metadata": {},
   "outputs": [
    {
     "data": {
      "text/html": [
       "<div>\n",
       "<style>\n",
       "    .dataframe thead tr:only-child th {\n",
       "        text-align: right;\n",
       "    }\n",
       "\n",
       "    .dataframe thead th {\n",
       "        text-align: left;\n",
       "    }\n",
       "\n",
       "    .dataframe tbody tr th {\n",
       "        vertical-align: top;\n",
       "    }\n",
       "</style>\n",
       "<table border=\"1\" class=\"dataframe\">\n",
       "  <thead>\n",
       "    <tr style=\"text-align: right;\">\n",
       "      <th></th>\n",
       "      <th>Date</th>\n",
       "      <th>Post</th>\n",
       "      <th>Price</th>\n",
       "      <th>Sentiment</th>\n",
       "    </tr>\n",
       "  </thead>\n",
       "  <tbody>\n",
       "    <tr>\n",
       "      <th>18718</th>\n",
       "      <td>2016-12-04</td>\n",
       "      <td>The bitcoin market in my country is not popula...</td>\n",
       "      <td>764.81625</td>\n",
       "      <td>0</td>\n",
       "    </tr>\n",
       "    <tr>\n",
       "      <th>18719</th>\n",
       "      <td>2016-12-04</td>\n",
       "      <td>Although there is still debate about BTC in my...</td>\n",
       "      <td>764.81625</td>\n",
       "      <td>0</td>\n",
       "    </tr>\n",
       "    <tr>\n",
       "      <th>18720</th>\n",
       "      <td>2016-12-04</td>\n",
       "      <td>JAK3</td>\n",
       "      <td>764.81625</td>\n",
       "      <td>0</td>\n",
       "    </tr>\n",
       "    <tr>\n",
       "      <th>18721</th>\n",
       "      <td>2016-12-04</td>\n",
       "      <td>In my country so many beginners now, they want...</td>\n",
       "      <td>764.81625</td>\n",
       "      <td>0</td>\n",
       "    </tr>\n",
       "    <tr>\n",
       "      <th>18722</th>\n",
       "      <td>2016-12-04</td>\n",
       "      <td>In my opinion, in the Philippines, Bitcoin is ...</td>\n",
       "      <td>764.81625</td>\n",
       "      <td>0</td>\n",
       "    </tr>\n",
       "  </tbody>\n",
       "</table>\n",
       "</div>"
      ],
      "text/plain": [
       "             Date                                               Post  \\\n",
       "18718  2016-12-04  The bitcoin market in my country is not popula...   \n",
       "18719  2016-12-04  Although there is still debate about BTC in my...   \n",
       "18720  2016-12-04                                              JAK3    \n",
       "18721  2016-12-04  In my country so many beginners now, they want...   \n",
       "18722  2016-12-04  In my opinion, in the Philippines, Bitcoin is ...   \n",
       "\n",
       "           Price  Sentiment  \n",
       "18718  764.81625          0  \n",
       "18719  764.81625          0  \n",
       "18720  764.81625          0  \n",
       "18721  764.81625          0  \n",
       "18722  764.81625          0  "
      ]
     },
     "execution_count": 99,
     "metadata": {},
     "output_type": "execute_result"
    }
   ],
   "source": [
    "temp.tail()"
   ]
  },
  {
   "cell_type": "code",
   "execution_count": 100,
   "metadata": {
    "collapsed": true
   },
   "outputs": [],
   "source": [
    "sent = temp.drop('Price',1)"
   ]
  },
  {
   "cell_type": "code",
   "execution_count": 101,
   "metadata": {},
   "outputs": [
    {
     "data": {
      "text/plain": [
       "(18723, 3)"
      ]
     },
     "execution_count": 101,
     "metadata": {},
     "output_type": "execute_result"
    }
   ],
   "source": [
    "sent.shape"
   ]
  },
  {
   "cell_type": "code",
   "execution_count": 104,
   "metadata": {},
   "outputs": [
    {
     "name": "stdout",
     "output_type": "stream",
     "text": [
      "1    12820\n",
      "0     5903\n",
      "Name: Sentiment, dtype: int64\n"
     ]
    },
    {
     "data": {
      "image/png": "[encoded data removed]",
      "text/plain": [
       "<matplotlib.figure.Figure at 0x10e55da58>"
      ]
     },
     "metadata": {},
     "output_type": "display_data"
    }
   ],
   "source": [
    "print(sent.Sentiment.value_counts())\n",
    "sent.Sentiment.hist(); "
   ]
  },
  {
   "cell_type": "code",
   "execution_count": 107,
   "metadata": {},
   "outputs": [
    {
     "name": "stdout",
     "output_type": "stream",
     "text": [
      "Average character length of the posts are:\n",
      "500.9383645783261\n"
     ]
    }
   ],
   "source": [
    "#Apply length function to the review column\n",
    "lengths = sent.Post.apply(len)\n",
    "\n",
    "print('Average character length of the posts are:')\n",
    "print (np.mean(lengths))"
   ]
  },
  {
   "cell_type": "code",
   "execution_count": null,
   "metadata": {
    "collapsed": true
   },
   "outputs": [],
   "source": []
  },
  {
   "cell_type": "code",
   "execution_count": 108,
   "metadata": {
    "collapsed": true
   },
   "outputs": [],
   "source": [
    "import nltk\n",
    "#nltk.download()"
   ]
  },
  {
   "cell_type": "code",
   "execution_count": 109,
   "metadata": {
    "collapsed": true
   },
   "outputs": [],
   "source": [
    "from nltk.tokenize import sent_tokenize\n",
    "from nltk.stem import PorterStemmer\n",
    "from nltk.tag import pos_tag\n",
    "from nltk.corpus import stopwords\n",
    "from nltk.corpus import wordnet\n",
    "from nltk.stem import WordNetLemmatizer\n",
    "\n",
    "eng = stopwords.words('English')"
   ]
  },
  {
   "cell_type": "code",
   "execution_count": 110,
   "metadata": {
    "collapsed": true
   },
   "outputs": [],
   "source": [
    "def get_wordnet_pos(treebank_tag):\n",
    "\n",
    "    if treebank_tag.startswith('J'):\n",
    "        return wordnet.ADJ\n",
    "    elif treebank_tag.startswith('V'):\n",
    "        return wordnet.VERB\n",
    "    elif treebank_tag.startswith('N'):\n",
    "        return wordnet.NOUN\n",
    "    elif treebank_tag.startswith('R'):\n",
    "        return wordnet.ADV\n",
    "    else:\n",
    "        return 'n'"
   ]
  },
  {
   "cell_type": "code",
   "execution_count": 112,
   "metadata": {
    "collapsed": true
   },
   "outputs": [],
   "source": [
    "def post_cleaner(post):\n",
    "    \n",
    "    #1. Use regex to find emoticons\n",
    "    emoticons = re.findall('(?::|;|=)(?:-)?(?:\\)|\\(|D|P)', post)\n",
    "    \n",
    "    #2. Remove punctuation\n",
    "    post = re.sub(\"[^a-zA-Z]\", \" \",post)\n",
    "    \n",
    "    #3. Tokenize into words (all lower case)\n",
    "    post = post.lower().split()\n",
    "    \n",
    "    #4. Remove stopwords\n",
    "    eng_stopwords = set(stopwords.words(\"english\"))\n",
    "    post = [w for w in post if not w in eng_stopwords]\n",
    "    \n",
    "    #5. Join the review to one sentence\n",
    "    post = ' '.join(post+emoticons)\n",
    "    # add emoticons to the end\n",
    "\n",
    "    return(post)"
   ]
  },
  {
   "cell_type": "code",
   "execution_count": 113,
   "metadata": {},
   "outputs": [
    {
     "name": "stdout",
     "output_type": "stream",
     "text": [
      "Done with 500 posts\n",
      "Done with 1000 posts\n",
      "Done with 1500 posts\n",
      "Done with 2000 posts\n",
      "Done with 2500 posts\n",
      "Done with 3000 posts\n",
      "Done with 3500 posts\n",
      "Done with 4000 posts\n",
      "Done with 4500 posts\n",
      "Done with 5000 posts\n",
      "Done with 5500 posts\n",
      "Done with 6000 posts\n",
      "Done with 6500 posts\n",
      "Done with 7000 posts\n",
      "Done with 7500 posts\n",
      "Done with 8000 posts\n",
      "Done with 8500 posts\n",
      "Done with 9000 posts\n",
      "Done with 9500 posts\n",
      "Done with 10000 posts\n",
      "Done with 10500 posts\n",
      "Done with 11000 posts\n",
      "Done with 11500 posts\n",
      "Done with 12000 posts\n",
      "Done with 12500 posts\n",
      "Done with 13000 posts\n",
      "Done with 13500 posts\n",
      "Done with 14000 posts\n",
      "Done with 14500 posts\n",
      "Done with 15000 posts\n",
      "Done with 15500 posts\n",
      "Done with 16000 posts\n",
      "Done with 16500 posts\n",
      "Done with 17000 posts\n",
      "Done with 17500 posts\n",
      "Done with 18000 posts\n",
      "Done with 18500 posts\n",
      "CPU times: user 4.14 s, sys: 659 ms, total: 4.8 s\n",
      "Wall time: 4.89 s\n"
     ]
    }
   ],
   "source": [
    "%%time\n",
    "\n",
    "num_posts = len(sent['Post'])\n",
    "\n",
    "post_clean_original = []\n",
    "\n",
    "for i in range(0,num_posts):\n",
    "    if( (i+1)%500 == 0 ):\n",
    "        # print progress\n",
    "        print(\"Done with %d posts\" %(i+1)) \n",
    "    post_clean_original.append(post_cleaner(record['Post'][i]))"
   ]
  },
  {
   "cell_type": "code",
   "execution_count": 114,
   "metadata": {},
   "outputs": [
    {
     "name": "stdout",
     "output_type": "stream",
     "text": [
      "Done with 500 posts\n",
      "Done with 1000 posts\n",
      "Done with 1500 posts\n",
      "Done with 2000 posts\n",
      "Done with 2500 posts\n",
      "Done with 3000 posts\n",
      "Done with 3500 posts\n",
      "Done with 4000 posts\n",
      "Done with 4500 posts\n",
      "Done with 5000 posts\n",
      "Done with 5500 posts\n",
      "Done with 6000 posts\n",
      "Done with 6500 posts\n",
      "Done with 7000 posts\n",
      "Done with 7500 posts\n",
      "Done with 8000 posts\n",
      "Done with 8500 posts\n",
      "Done with 9000 posts\n",
      "Done with 9500 posts\n",
      "Done with 10000 posts\n",
      "Done with 10500 posts\n",
      "Done with 11000 posts\n",
      "Done with 11500 posts\n",
      "Done with 12000 posts\n",
      "Done with 12500 posts\n",
      "Done with 13000 posts\n",
      "Done with 13500 posts\n",
      "Done with 14000 posts\n",
      "Done with 14500 posts\n",
      "Done with 15000 posts\n",
      "Done with 15500 posts\n",
      "Done with 16000 posts\n",
      "Done with 16500 posts\n",
      "Done with 17000 posts\n",
      "Done with 17500 posts\n",
      "Done with 18000 posts\n",
      "Done with 18500 posts\n",
      "CPU times: user 48.3 s, sys: 723 ms, total: 49 s\n",
      "Wall time: 49.5 s\n"
     ]
    }
   ],
   "source": [
    "%%time\n",
    "# Lemmatizer\n",
    "\n",
    "post_clean_wnl = []\n",
    "\n",
    "wnl = WordNetLemmatizer()\n",
    "\n",
    "for i in range(0,num_posts):\n",
    "    if( (i+1)%500 == 0 ):\n",
    "        # print progress\n",
    "        print(\"Done with %d posts\" %(i+1)) \n",
    "    \n",
    "    wnl_stems = []\n",
    "    token_tag = pos_tag(post_clean_original[i].split())\n",
    "    for pair in token_tag:\n",
    "        res = wnl.lemmatize(pair[0],pos=get_wordnet_pos(pair[1]))\n",
    "        wnl_stems.append(res)\n",
    "\n",
    "    post_clean_wnl.append(' '.join(wnl_stems))"
   ]
  },
  {
   "cell_type": "code",
   "execution_count": 115,
   "metadata": {
    "collapsed": true
   },
   "outputs": [],
   "source": [
    "from sklearn.ensemble import RandomForestClassifier\n",
    "from sklearn.feature_extraction.text import CountVectorizer\n",
    "from sklearn import metrics\n",
    "from sklearn.model_selection import train_test_split\n",
    "\n",
    "# put everything together in a function\n",
    "\n",
    "def predict_sentiment(cleaned_posts, y=sent[\"Sentiment\"]):\n",
    "\n",
    "    print(\"Creating the bag of words model..\\n\")\n",
    "    # CountVectorizer\" is scikit-learn's bag of words tool, here we show more keywords \n",
    "    vectorizer = CountVectorizer(analyzer = \"word\",   \\\n",
    "                                 tokenizer = None,    \\\n",
    "                                 preprocessor = None, \\\n",
    "                                 stop_words = None,   \\\n",
    "                                 max_features = 2000) \n",
    "    \n",
    "    X_train, X_test, y_train, y_test = train_test_split(\\\n",
    "    cleaned_posts, y, random_state=0, test_size=0.2)\n",
    "\n",
    "    # Then we use fit_transform() to fit the model / learn the vocabulary,\n",
    "    # then transform the data into feature vectors.\n",
    "    # The input should be a list of strings. .toarraty() converts to a numpy array\n",
    "    \n",
    "    train_bag = vectorizer.fit_transform(X_train).toarray()\n",
    "    test_bag = vectorizer.transform(X_test).toarray()\n",
    "\n",
    "    # You can extract the vocabulary created by CountVectorizer\n",
    "    # by running print(vectorizer.get_feature_names())\n",
    "\n",
    "\n",
    "    print(\"Training the random forest classifier..\\n\")\n",
    "    # Initialize a Random Forest classifier with 75 trees\n",
    "    forest = RandomForestClassifier(n_estimators = 50) \n",
    "\n",
    "    # Fit the forest to the training set, using the bag of words as \n",
    "    # features and the sentiment labels as the target variable\n",
    "    forest = forest.fit(train_bag, y_train)\n",
    "\n",
    "\n",
    "    train_predictions = forest.predict(train_bag)\n",
    "    test_predictions = forest.predict(test_bag)\n",
    "    \n",
    "    train_acc = metrics.accuracy_score(y_train, train_predictions)\n",
    "    valid_acc = metrics.accuracy_score(y_test, test_predictions)\n",
    "    print(\"The training accuracy is: \", train_acc, \"\\n\", \"The validation accuracy is: \", valid_acc)\n",
    "    print()\n",
    "    print()\n",
    "    #Extract feature importnace\n",
    "    print('TOP TEN IMPORTANT FEATURES:')\n",
    "    importances = forest.feature_importances_\n",
    "    indices = np.argsort(importances)[::-1]\n",
    "    top_10 = indices[:10]\n",
    "    print([vectorizer.get_feature_names()[ind] for ind in top_10])"
   ]
  },
  {
   "cell_type": "code",
   "execution_count": 118,
   "metadata": {},
   "outputs": [
    {
     "name": "stdout",
     "output_type": "stream",
     "text": [
      "Creating the bag of words model..\n",
      "\n",
      "Training the random forest classifier..\n",
      "\n",
      "The training accuracy is:  0.99826412071 \n",
      " The validation accuracy is:  0.736181575434\n",
      "\n",
      "\n",
      "TOP TEN IMPORTANT FEATURES:\n",
      "['bitcoin', 'smart', 'money', 'think', 'good', 'investment', 'people', 'need', 'know', 'invest']\n"
     ]
    }
   ],
   "source": [
    "predict_sentiment(post_clean_original) #Accuracy measure with original sentences"
   ]
  },
  {
   "cell_type": "code",
   "execution_count": 117,
   "metadata": {},
   "outputs": [
    {
     "name": "stdout",
     "output_type": "stream",
     "text": [
      "Creating the bag of words model..\n",
      "\n",
      "Training the random forest classifier..\n",
      "\n",
      "The training accuracy is:  0.998397649887 \n",
      " The validation accuracy is:  0.742323097463\n",
      "\n",
      "\n",
      "TOP TEN IMPORTANT FEATURES:\n",
      "['bitcoin', 'smart', 'money', 'invest', 'think', 'need', 'know', 'good', 'use', 'people']\n"
     ]
    }
   ],
   "source": [
    "predict_sentiment(post_clean_wnl) #Lemmatized sentences lead to lower accuracy"
   ]
  },
  {
   "cell_type": "code",
   "execution_count": null,
   "metadata": {
    "collapsed": true
   },
   "outputs": [],
   "source": []
  }
 ],
 "metadata": {
  "kernelspec": {
   "display_name": "Python 3",
   "language": "python",
   "name": "python3"
  },
  "language_info": {
   "codemirror_mode": {
    "name": "ipython",
    "version": 3
   },
   "file_extension": ".py",
   "mimetype": "text/x-python",
   "name": "python",
   "nbconvert_exporter": "python",
   "pygments_lexer": "ipython3",
   "version": "3.6.3"
  }
 },
 "nbformat": 4,
 "nbformat_minor": 2
}
