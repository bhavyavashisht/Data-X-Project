{
 "cells": [
  {
   "cell_type": "code",
   "execution_count": 2,
   "metadata": {
    "collapsed": true
   },
   "outputs": [],
   "source": [
    "import json\n",
    "import pandas as pd\n",
    "import matplotlib.pyplot as plt\n",
    "%matplotlib inline\n",
    "import numpy as np"
   ]
  },
  {
   "cell_type": "code",
   "execution_count": 3,
   "metadata": {
    "collapsed": true
   },
   "outputs": [],
   "source": [
    "data = json.load(open('bitcointalk_1.json'))"
   ]
  },
  {
   "cell_type": "code",
   "execution_count": 4,
   "metadata": {},
   "outputs": [
    {
     "name": "stderr",
     "output_type": "stream",
     "text": [
      "IOPub data rate exceeded.\n",
      "The notebook server will temporarily stop sending output\n",
      "to the client in order to avoid crashing it.\n",
      "To change this limit, set the config variable\n",
      "`--NotebookApp.iopub_data_rate_limit`.\n"
     ]
    }
   ],
   "source": [
    "data"
   ]
  },
  {
   "cell_type": "code",
   "execution_count": 5,
   "metadata": {},
   "outputs": [
    {
     "data": {
      "text/plain": [
       "dict"
      ]
     },
     "execution_count": 5,
     "metadata": {},
     "output_type": "execute_result"
    }
   ],
   "source": [
    "type(data)"
   ]
  },
  {
   "cell_type": "code",
   "execution_count": 6,
   "metadata": {},
   "outputs": [
    {
     "data": {
      "text/plain": [
       "36"
      ]
     },
     "execution_count": 6,
     "metadata": {},
     "output_type": "execute_result"
    }
   ],
   "source": [
    "len(data['posts'])"
   ]
  },
  {
   "cell_type": "code",
   "execution_count": 7,
   "metadata": {
    "collapsed": true
   },
   "outputs": [],
   "source": [
    "test = data['posts'][0]['content']"
   ]
  },
  {
   "cell_type": "code",
   "execution_count": 8,
   "metadata": {
    "collapsed": true
   },
   "outputs": [],
   "source": [
    "x=[]\n",
    "num_replies = len(data['posts'][0]['replies'])\n",
    "for i in range(0,num_replies):\n",
    "    x.append(data['posts'][0]['replies'][i]['content'])"
   ]
  },
  {
   "cell_type": "code",
   "execution_count": 9,
   "metadata": {},
   "outputs": [
    {
     "data": {
      "text/plain": [
       "str"
      ]
     },
     "execution_count": 9,
     "metadata": {},
     "output_type": "execute_result"
    }
   ],
   "source": [
    "type(data['posts'][0]['content'])"
   ]
  },
  {
   "cell_type": "code",
   "execution_count": 10,
   "metadata": {
    "collapsed": true
   },
   "outputs": [],
   "source": [
    "import re\n",
    "temp=(re.sub(r'\\s+', ' ', data['posts'][0]['content']))"
   ]
  },
  {
   "cell_type": "code",
   "execution_count": 11,
   "metadata": {},
   "outputs": [
    {
     "data": {
      "text/plain": [
       "'Why is it smart to invest in Bitcoin? '"
      ]
     },
     "execution_count": 11,
     "metadata": {},
     "output_type": "execute_result"
    }
   ],
   "source": [
    "temp"
   ]
  },
  {
   "cell_type": "code",
   "execution_count": 12,
   "metadata": {},
   "outputs": [
    {
     "data": {
      "text/plain": [
       "2"
      ]
     },
     "execution_count": 12,
     "metadata": {},
     "output_type": "execute_result"
    }
   ],
   "source": [
    "text=[]\n",
    "text.append(data['posts'][0]['content'])\n",
    "text.append(data['posts'][0]['replies'][0]['content'])\n",
    "len(text)"
   ]
  },
  {
   "cell_type": "code",
   "execution_count": 13,
   "metadata": {},
   "outputs": [
    {
     "data": {
      "text/plain": [
       "5"
      ]
     },
     "execution_count": 13,
     "metadata": {},
     "output_type": "execute_result"
    }
   ],
   "source": [
    "len(data['posts'][4])"
   ]
  },
  {
   "cell_type": "code",
   "execution_count": 14,
   "metadata": {
    "collapsed": true
   },
   "outputs": [],
   "source": [
    "date=[]\n",
    "text=[]\n",
    "for i in range(0,len(data['posts'])):\n",
    "    temp=(re.sub(r'\\s+', ' ', data['posts'][i]['content']))\n",
    "    text.append(temp)\n",
    "    date.append(data['posts'][i]['date'])\n",
    "    num_replies = len(data['posts'][i]['replies'])\n",
    "    for j in range(0,num_replies):\n",
    "        temp2=(re.sub(r'\\s+', ' ', data['posts'][i]['replies'][j]['content']))\n",
    "        text.append(temp2)\n",
    "        date.append(data['posts'][i]['replies'][j]['date'])"
   ]
  },
  {
   "cell_type": "code",
   "execution_count": 15,
   "metadata": {},
   "outputs": [
    {
     "data": {
      "text/plain": [
       "1175"
      ]
     },
     "execution_count": 15,
     "metadata": {},
     "output_type": "execute_result"
    }
   ],
   "source": [
    "len(x) # Each post has Content, Date, Replies, Topic, Views and Each reply has Content and Date"
   ]
  },
  {
   "cell_type": "code",
   "execution_count": 16,
   "metadata": {},
   "outputs": [
    {
     "data": {
      "text/plain": [
       "21006"
      ]
     },
     "execution_count": 16,
     "metadata": {},
     "output_type": "execute_result"
    }
   ],
   "source": [
    "len(text)"
   ]
  },
  {
   "cell_type": "code",
   "execution_count": 17,
   "metadata": {},
   "outputs": [
    {
     "data": {
      "text/plain": [
       "21006"
      ]
     },
     "execution_count": 17,
     "metadata": {},
     "output_type": "execute_result"
    }
   ],
   "source": [
    "len(date)"
   ]
  },
  {
   "cell_type": "code",
   "execution_count": 18,
   "metadata": {
    "collapsed": true
   },
   "outputs": [],
   "source": [
    "t1 = pd.Series(date)\n",
    "t2 = pd.Series(text)\n",
    "record = pd.concat([t1,t2],axis=1)"
   ]
  },
  {
   "cell_type": "code",
   "execution_count": 19,
   "metadata": {},
   "outputs": [
    {
     "data": {
      "text/html": [
       "<div>\n",
       "<style>\n",
       "    .dataframe thead tr:only-child th {\n",
       "        text-align: right;\n",
       "    }\n",
       "\n",
       "    .dataframe thead th {\n",
       "        text-align: left;\n",
       "    }\n",
       "\n",
       "    .dataframe tbody tr th {\n",
       "        vertical-align: top;\n",
       "    }\n",
       "</style>\n",
       "<table border=\"1\" class=\"dataframe\">\n",
       "  <thead>\n",
       "    <tr style=\"text-align: right;\">\n",
       "      <th></th>\n",
       "      <th>0</th>\n",
       "      <th>1</th>\n",
       "    </tr>\n",
       "  </thead>\n",
       "  <tbody>\n",
       "    <tr>\n",
       "      <th>0</th>\n",
       "      <td>2017-09-06 21:04:53</td>\n",
       "      <td>Why is it smart to invest in Bitcoin?</td>\n",
       "    </tr>\n",
       "    <tr>\n",
       "      <th>1</th>\n",
       "      <td>2017-09-06 21:07:37</td>\n",
       "      <td>Investing in bitcoin would be a very smart inv...</td>\n",
       "    </tr>\n",
       "    <tr>\n",
       "      <th>2</th>\n",
       "      <td>2017-09-06 21:31:46</td>\n",
       "      <td>Why is it smart to invest in Bitcoin? You can ...</td>\n",
       "    </tr>\n",
       "    <tr>\n",
       "      <th>3</th>\n",
       "      <td>2017-09-06 21:35:36</td>\n",
       "      <td>Its a currency that has continued to grow and ...</td>\n",
       "    </tr>\n",
       "    <tr>\n",
       "      <th>4</th>\n",
       "      <td>2017-09-06 21:40:29</td>\n",
       "      <td>It's worth to buy because people believe that ...</td>\n",
       "    </tr>\n",
       "  </tbody>\n",
       "</table>\n",
       "</div>"
      ],
      "text/plain": [
       "                     0                                                  1\n",
       "0  2017-09-06 21:04:53             Why is it smart to invest in Bitcoin? \n",
       "1  2017-09-06 21:07:37  Investing in bitcoin would be a very smart inv...\n",
       "2  2017-09-06 21:31:46  Why is it smart to invest in Bitcoin? You can ...\n",
       "3  2017-09-06 21:35:36  Its a currency that has continued to grow and ...\n",
       "4  2017-09-06 21:40:29  It's worth to buy because people believe that ..."
      ]
     },
     "execution_count": 19,
     "metadata": {},
     "output_type": "execute_result"
    }
   ],
   "source": [
    "record.head()"
   ]
  },
  {
   "cell_type": "code",
   "execution_count": 20,
   "metadata": {
    "collapsed": true
   },
   "outputs": [],
   "source": [
    "record = record.rename(columns = {0:'Date',1:'Post'})"
   ]
  },
  {
   "cell_type": "code",
   "execution_count": 21,
   "metadata": {
    "collapsed": true
   },
   "outputs": [],
   "source": [
    "record['Date'] = pd.to_datetime(record['Date']).dt.date"
   ]
  },
  {
   "cell_type": "code",
   "execution_count": 22,
   "metadata": {
    "collapsed": true
   },
   "outputs": [],
   "source": [
    "A=record['Date'].tolist()"
   ]
  },
  {
   "cell_type": "code",
   "execution_count": 23,
   "metadata": {
    "collapsed": true
   },
   "outputs": [],
   "source": [
    "a = pd.Series(sorted(A, reverse=True))"
   ]
  },
  {
   "cell_type": "code",
   "execution_count": 24,
   "metadata": {
    "collapsed": true
   },
   "outputs": [],
   "source": [
    "record_n = pd.concat([a,t2],axis=1)"
   ]
  },
  {
   "cell_type": "code",
   "execution_count": 25,
   "metadata": {
    "collapsed": true
   },
   "outputs": [],
   "source": [
    "record_n = record_n.rename(columns = {0:'Date',1:'Post'})"
   ]
  },
  {
   "cell_type": "code",
   "execution_count": 26,
   "metadata": {},
   "outputs": [
    {
     "data": {
      "text/html": [
       "<div>\n",
       "<style>\n",
       "    .dataframe thead tr:only-child th {\n",
       "        text-align: right;\n",
       "    }\n",
       "\n",
       "    .dataframe thead th {\n",
       "        text-align: left;\n",
       "    }\n",
       "\n",
       "    .dataframe tbody tr th {\n",
       "        vertical-align: top;\n",
       "    }\n",
       "</style>\n",
       "<table border=\"1\" class=\"dataframe\">\n",
       "  <thead>\n",
       "    <tr style=\"text-align: right;\">\n",
       "      <th></th>\n",
       "      <th>Date</th>\n",
       "      <th>Post</th>\n",
       "    </tr>\n",
       "  </thead>\n",
       "  <tbody>\n",
       "    <tr>\n",
       "      <th>21001</th>\n",
       "      <td>2011-01-12</td>\n",
       "      <td>Hi, I'm a newbie here in bitcoin and I'm not t...</td>\n",
       "    </tr>\n",
       "    <tr>\n",
       "      <th>21002</th>\n",
       "      <td>2011-01-12</td>\n",
       "      <td>of course you can, almost all bounty provide b...</td>\n",
       "    </tr>\n",
       "    <tr>\n",
       "      <th>21003</th>\n",
       "      <td>2011-01-12</td>\n",
       "      <td>Yes you can earn bitcoins by joining in social...</td>\n",
       "    </tr>\n",
       "    <tr>\n",
       "      <th>21004</th>\n",
       "      <td>2011-01-12</td>\n",
       "      <td>Hi, I'm a newbie here in bitcoin and I'm not t...</td>\n",
       "    </tr>\n",
       "    <tr>\n",
       "      <th>21005</th>\n",
       "      <td>2011-01-12</td>\n",
       "      <td>Hi, I am relatively new to crypto world. But l...</td>\n",
       "    </tr>\n",
       "  </tbody>\n",
       "</table>\n",
       "</div>"
      ],
      "text/plain": [
       "             Date                                               Post\n",
       "21001  2011-01-12  Hi, I'm a newbie here in bitcoin and I'm not t...\n",
       "21002  2011-01-12  of course you can, almost all bounty provide b...\n",
       "21003  2011-01-12  Yes you can earn bitcoins by joining in social...\n",
       "21004  2011-01-12  Hi, I'm a newbie here in bitcoin and I'm not t...\n",
       "21005  2011-01-12  Hi, I am relatively new to crypto world. But l..."
      ]
     },
     "execution_count": 26,
     "metadata": {},
     "output_type": "execute_result"
    }
   ],
   "source": [
    "record_n.tail()"
   ]
  },
  {
   "cell_type": "code",
   "execution_count": 27,
   "metadata": {
    "collapsed": true
   },
   "outputs": [],
   "source": [
    "col_names = ['Date','Price']\n",
    "btc = pd.read_csv('btc_price.csv',header=None,names=col_names)"
   ]
  },
  {
   "cell_type": "code",
   "execution_count": 28,
   "metadata": {},
   "outputs": [
    {
     "name": "stdout",
     "output_type": "stream",
     "text": [
      "(365, 2)\n"
     ]
    },
    {
     "data": {
      "text/html": [
       "<div>\n",
       "<style>\n",
       "    .dataframe thead tr:only-child th {\n",
       "        text-align: right;\n",
       "    }\n",
       "\n",
       "    .dataframe thead th {\n",
       "        text-align: left;\n",
       "    }\n",
       "\n",
       "    .dataframe tbody tr th {\n",
       "        vertical-align: top;\n",
       "    }\n",
       "</style>\n",
       "<table border=\"1\" class=\"dataframe\">\n",
       "  <thead>\n",
       "    <tr style=\"text-align: right;\">\n",
       "      <th></th>\n",
       "      <th>Date</th>\n",
       "      <th>Price</th>\n",
       "    </tr>\n",
       "  </thead>\n",
       "  <tbody>\n",
       "    <tr>\n",
       "      <th>0</th>\n",
       "      <td>2016-12-04 00:00:00</td>\n",
       "      <td>764.816250</td>\n",
       "    </tr>\n",
       "    <tr>\n",
       "      <th>1</th>\n",
       "      <td>2016-12-05 00:00:00</td>\n",
       "      <td>754.639750</td>\n",
       "    </tr>\n",
       "    <tr>\n",
       "      <th>2</th>\n",
       "      <td>2016-12-06 00:00:00</td>\n",
       "      <td>756.621500</td>\n",
       "    </tr>\n",
       "    <tr>\n",
       "      <th>3</th>\n",
       "      <td>2016-12-07 00:00:00</td>\n",
       "      <td>766.116638</td>\n",
       "    </tr>\n",
       "    <tr>\n",
       "      <th>4</th>\n",
       "      <td>2016-12-08 00:00:00</td>\n",
       "      <td>769.729750</td>\n",
       "    </tr>\n",
       "  </tbody>\n",
       "</table>\n",
       "</div>"
      ],
      "text/plain": [
       "                  Date       Price\n",
       "0  2016-12-04 00:00:00  764.816250\n",
       "1  2016-12-05 00:00:00  754.639750\n",
       "2  2016-12-06 00:00:00  756.621500\n",
       "3  2016-12-07 00:00:00  766.116638\n",
       "4  2016-12-08 00:00:00  769.729750"
      ]
     },
     "execution_count": 28,
     "metadata": {},
     "output_type": "execute_result"
    }
   ],
   "source": [
    "print(btc.shape)\n",
    "btc.head()"
   ]
  },
  {
   "cell_type": "code",
   "execution_count": 29,
   "metadata": {
    "collapsed": true
   },
   "outputs": [],
   "source": [
    "#Setting labels for the Bitcoin prices to perform Sentiment Analysis\n",
    "label=[]\n",
    "for i in range(1,btc.shape[0]):\n",
    "    value = ((btc.iat[i,1]-btc.iat[i-1,1])/(btc.iat[i-1,1]))*100\n",
    "    if (value>1):\n",
    "        btc.loc[btc.index[i],'Sentiment']=1\n",
    "    elif (value<-1):\n",
    "        btc.loc[btc.index[i],'Sentiment']=-1\n",
    "    else:\n",
    "        btc.loc[btc.index[i],'Sentiment']=0\n",
    "btc.loc[btc.index[0],'Sentiment']=0 #To match indices with btc. This false value will anyway go away when we trim BTC to match record df.\n",
    "btc['Sentiment'] = btc['Sentiment'].astype(int)"
   ]
  },
  {
   "cell_type": "code",
   "execution_count": 30,
   "metadata": {
    "collapsed": true
   },
   "outputs": [],
   "source": [
    "btc['Date'] = pd.to_datetime(btc['Date']).dt.date"
   ]
  },
  {
   "cell_type": "code",
   "execution_count": 31,
   "metadata": {},
   "outputs": [
    {
     "data": {
      "text/html": [
       "<div>\n",
       "<style>\n",
       "    .dataframe thead tr:only-child th {\n",
       "        text-align: right;\n",
       "    }\n",
       "\n",
       "    .dataframe thead th {\n",
       "        text-align: left;\n",
       "    }\n",
       "\n",
       "    .dataframe tbody tr th {\n",
       "        vertical-align: top;\n",
       "    }\n",
       "</style>\n",
       "<table border=\"1\" class=\"dataframe\">\n",
       "  <thead>\n",
       "    <tr style=\"text-align: right;\">\n",
       "      <th></th>\n",
       "      <th>Date</th>\n",
       "      <th>Price</th>\n",
       "    </tr>\n",
       "    <tr>\n",
       "      <th>Sentiment</th>\n",
       "      <th></th>\n",
       "      <th></th>\n",
       "    </tr>\n",
       "  </thead>\n",
       "  <tbody>\n",
       "    <tr>\n",
       "      <th>-1</th>\n",
       "      <td>85</td>\n",
       "      <td>85</td>\n",
       "    </tr>\n",
       "    <tr>\n",
       "      <th>0</th>\n",
       "      <td>111</td>\n",
       "      <td>111</td>\n",
       "    </tr>\n",
       "    <tr>\n",
       "      <th>1</th>\n",
       "      <td>169</td>\n",
       "      <td>169</td>\n",
       "    </tr>\n",
       "  </tbody>\n",
       "</table>\n",
       "</div>"
      ],
      "text/plain": [
       "           Date  Price\n",
       "Sentiment             \n",
       "-1           85     85\n",
       " 0          111    111\n",
       " 1          169    169"
      ]
     },
     "execution_count": 31,
     "metadata": {},
     "output_type": "execute_result"
    }
   ],
   "source": [
    "btc.groupby('Sentiment').count()"
   ]
  },
  {
   "cell_type": "code",
   "execution_count": 32,
   "metadata": {},
   "outputs": [
    {
     "data": {
      "text/html": [
       "<div>\n",
       "<style>\n",
       "    .dataframe thead tr:only-child th {\n",
       "        text-align: right;\n",
       "    }\n",
       "\n",
       "    .dataframe thead th {\n",
       "        text-align: left;\n",
       "    }\n",
       "\n",
       "    .dataframe tbody tr th {\n",
       "        vertical-align: top;\n",
       "    }\n",
       "</style>\n",
       "<table border=\"1\" class=\"dataframe\">\n",
       "  <thead>\n",
       "    <tr style=\"text-align: right;\">\n",
       "      <th></th>\n",
       "      <th>Date</th>\n",
       "      <th>Post</th>\n",
       "    </tr>\n",
       "  </thead>\n",
       "  <tbody>\n",
       "  </tbody>\n",
       "</table>\n",
       "</div>"
      ],
      "text/plain": [
       "Empty DataFrame\n",
       "Columns: [Date, Post]\n",
       "Index: []"
      ]
     },
     "execution_count": 32,
     "metadata": {},
     "output_type": "execute_result"
    }
   ],
   "source": [
    "value = ['2016-12-12']\n",
    "record_n[record_n.Date.isin(value)]"
   ]
  },
  {
   "cell_type": "code",
   "execution_count": 33,
   "metadata": {
    "collapsed": true
   },
   "outputs": [],
   "source": [
    "temp = record_n.merge(btc, on='Date', how='inner')"
   ]
  },
  {
   "cell_type": "code",
   "execution_count": 34,
   "metadata": {},
   "outputs": [
    {
     "data": {
      "text/html": [
       "<div>\n",
       "<style>\n",
       "    .dataframe thead tr:only-child th {\n",
       "        text-align: right;\n",
       "    }\n",
       "\n",
       "    .dataframe thead th {\n",
       "        text-align: left;\n",
       "    }\n",
       "\n",
       "    .dataframe tbody tr th {\n",
       "        vertical-align: top;\n",
       "    }\n",
       "</style>\n",
       "<table border=\"1\" class=\"dataframe\">\n",
       "  <thead>\n",
       "    <tr style=\"text-align: right;\">\n",
       "      <th></th>\n",
       "      <th>Date</th>\n",
       "      <th>Post</th>\n",
       "      <th>Price</th>\n",
       "      <th>Sentiment</th>\n",
       "    </tr>\n",
       "  </thead>\n",
       "  <tbody>\n",
       "    <tr>\n",
       "      <th>0</th>\n",
       "      <td>2017-12-03</td>\n",
       "      <td>Why is it smart to invest in Bitcoin?</td>\n",
       "      <td>11332.622000</td>\n",
       "      <td>1</td>\n",
       "    </tr>\n",
       "    <tr>\n",
       "      <th>1</th>\n",
       "      <td>2017-12-03</td>\n",
       "      <td>Investing in bitcoin would be a very smart inv...</td>\n",
       "      <td>11332.622000</td>\n",
       "      <td>1</td>\n",
       "    </tr>\n",
       "    <tr>\n",
       "      <th>2</th>\n",
       "      <td>2017-12-03</td>\n",
       "      <td>Why is it smart to invest in Bitcoin? You can ...</td>\n",
       "      <td>11332.622000</td>\n",
       "      <td>1</td>\n",
       "    </tr>\n",
       "    <tr>\n",
       "      <th>3</th>\n",
       "      <td>2017-12-03</td>\n",
       "      <td>Its a currency that has continued to grow and ...</td>\n",
       "      <td>11332.622000</td>\n",
       "      <td>1</td>\n",
       "    </tr>\n",
       "    <tr>\n",
       "      <th>4</th>\n",
       "      <td>2017-12-03</td>\n",
       "      <td>It's worth to buy because people believe that ...</td>\n",
       "      <td>11332.622000</td>\n",
       "      <td>1</td>\n",
       "    </tr>\n",
       "    <tr>\n",
       "      <th>5</th>\n",
       "      <td>2017-12-03</td>\n",
       "      <td>Why is it smart to invest in Bitcoin? You can ...</td>\n",
       "      <td>11332.622000</td>\n",
       "      <td>1</td>\n",
       "    </tr>\n",
       "    <tr>\n",
       "      <th>6</th>\n",
       "      <td>2017-12-03</td>\n",
       "      <td>Why is it smart to invest in Bitcoin? You can ...</td>\n",
       "      <td>11332.622000</td>\n",
       "      <td>1</td>\n",
       "    </tr>\n",
       "    <tr>\n",
       "      <th>7</th>\n",
       "      <td>2017-12-03</td>\n",
       "      <td>Why is it smart to invest in Bitcoin? Simply b...</td>\n",
       "      <td>11332.622000</td>\n",
       "      <td>1</td>\n",
       "    </tr>\n",
       "    <tr>\n",
       "      <th>8</th>\n",
       "      <td>2017-12-03</td>\n",
       "      <td>It's worth to buy because people believe that ...</td>\n",
       "      <td>11332.622000</td>\n",
       "      <td>1</td>\n",
       "    </tr>\n",
       "    <tr>\n",
       "      <th>9</th>\n",
       "      <td>2017-12-03</td>\n",
       "      <td>It's your decision, but bitcoin has a bright f...</td>\n",
       "      <td>11332.622000</td>\n",
       "      <td>1</td>\n",
       "    </tr>\n",
       "    <tr>\n",
       "      <th>10</th>\n",
       "      <td>2017-12-03</td>\n",
       "      <td>Why is it smart to invest in Bitcoin? Simply b...</td>\n",
       "      <td>11332.622000</td>\n",
       "      <td>1</td>\n",
       "    </tr>\n",
       "    <tr>\n",
       "      <th>11</th>\n",
       "      <td>2017-12-03</td>\n",
       "      <td>Why is it smart to invest in Bitcoin? A lot of...</td>\n",
       "      <td>11332.622000</td>\n",
       "      <td>1</td>\n",
       "    </tr>\n",
       "    <tr>\n",
       "      <th>12</th>\n",
       "      <td>2017-12-03</td>\n",
       "      <td>You will found out why after a months just loo...</td>\n",
       "      <td>11332.622000</td>\n",
       "      <td>1</td>\n",
       "    </tr>\n",
       "    <tr>\n",
       "      <th>13</th>\n",
       "      <td>2017-12-03</td>\n",
       "      <td>yes I agree, invest in bitcoin because a lot o...</td>\n",
       "      <td>11332.622000</td>\n",
       "      <td>1</td>\n",
       "    </tr>\n",
       "    <tr>\n",
       "      <th>14</th>\n",
       "      <td>2017-12-03</td>\n",
       "      <td>Because the future looks bright bitcoin contin...</td>\n",
       "      <td>11332.622000</td>\n",
       "      <td>1</td>\n",
       "    </tr>\n",
       "    <tr>\n",
       "      <th>15</th>\n",
       "      <td>2017-12-03</td>\n",
       "      <td>Some think it's smart, some think it's a risk ...</td>\n",
       "      <td>11332.622000</td>\n",
       "      <td>1</td>\n",
       "    </tr>\n",
       "    <tr>\n",
       "      <th>16</th>\n",
       "      <td>2017-12-03</td>\n",
       "      <td>Investing in Bitcoins is like investing to the...</td>\n",
       "      <td>11332.622000</td>\n",
       "      <td>1</td>\n",
       "    </tr>\n",
       "    <tr>\n",
       "      <th>17</th>\n",
       "      <td>2017-12-03</td>\n",
       "      <td>because investing the funds owned to bitcoin w...</td>\n",
       "      <td>11332.622000</td>\n",
       "      <td>1</td>\n",
       "    </tr>\n",
       "    <tr>\n",
       "      <th>18</th>\n",
       "      <td>2017-12-03</td>\n",
       "      <td>Why is it smart to invest in Bitcoin? For me, ...</td>\n",
       "      <td>11332.622000</td>\n",
       "      <td>1</td>\n",
       "    </tr>\n",
       "    <tr>\n",
       "      <th>19</th>\n",
       "      <td>2017-12-03</td>\n",
       "      <td>It is great to invest in bitcoin since it is a...</td>\n",
       "      <td>11332.622000</td>\n",
       "      <td>1</td>\n",
       "    </tr>\n",
       "    <tr>\n",
       "      <th>20</th>\n",
       "      <td>2017-12-03</td>\n",
       "      <td>investing bitcoin is a clever way of being see...</td>\n",
       "      <td>11332.622000</td>\n",
       "      <td>1</td>\n",
       "    </tr>\n",
       "    <tr>\n",
       "      <th>21</th>\n",
       "      <td>2017-12-03</td>\n",
       "      <td>Is there any chance of bitcoin dying or never ...</td>\n",
       "      <td>11332.622000</td>\n",
       "      <td>1</td>\n",
       "    </tr>\n",
       "    <tr>\n",
       "      <th>22</th>\n",
       "      <td>2017-12-03</td>\n",
       "      <td>The high price volatility (price changes) in t...</td>\n",
       "      <td>11332.622000</td>\n",
       "      <td>1</td>\n",
       "    </tr>\n",
       "    <tr>\n",
       "      <th>23</th>\n",
       "      <td>2017-12-03</td>\n",
       "      <td>My answer will be yes. Bitcoin has the highest...</td>\n",
       "      <td>11332.622000</td>\n",
       "      <td>1</td>\n",
       "    </tr>\n",
       "    <tr>\n",
       "      <th>24</th>\n",
       "      <td>2017-12-03</td>\n",
       "      <td>not sure if it is smart or not if you invest n...</td>\n",
       "      <td>11332.622000</td>\n",
       "      <td>1</td>\n",
       "    </tr>\n",
       "    <tr>\n",
       "      <th>25</th>\n",
       "      <td>2017-12-03</td>\n",
       "      <td>investing bitcoin is a clever way of being see...</td>\n",
       "      <td>11332.622000</td>\n",
       "      <td>1</td>\n",
       "    </tr>\n",
       "    <tr>\n",
       "      <th>26</th>\n",
       "      <td>2017-12-03</td>\n",
       "      <td>Is there any chance of bitcoin dying or never ...</td>\n",
       "      <td>11332.622000</td>\n",
       "      <td>1</td>\n",
       "    </tr>\n",
       "    <tr>\n",
       "      <th>27</th>\n",
       "      <td>2017-12-03</td>\n",
       "      <td>Bitcoin is now on its appreciation period its ...</td>\n",
       "      <td>11332.622000</td>\n",
       "      <td>1</td>\n",
       "    </tr>\n",
       "    <tr>\n",
       "      <th>28</th>\n",
       "      <td>2017-12-03</td>\n",
       "      <td>Why is it smart to invest in Bitcoin? Investin...</td>\n",
       "      <td>11332.622000</td>\n",
       "      <td>1</td>\n",
       "    </tr>\n",
       "    <tr>\n",
       "      <th>29</th>\n",
       "      <td>2017-12-03</td>\n",
       "      <td>I am pretty sure this is an answer you already...</td>\n",
       "      <td>11332.622000</td>\n",
       "      <td>1</td>\n",
       "    </tr>\n",
       "    <tr>\n",
       "      <th>...</th>\n",
       "      <td>...</td>\n",
       "      <td>...</td>\n",
       "      <td>...</td>\n",
       "      <td>...</td>\n",
       "    </tr>\n",
       "    <tr>\n",
       "      <th>6754</th>\n",
       "      <td>2017-11-01</td>\n",
       "      <td>Even today I do not see much competition betwe...</td>\n",
       "      <td>6665.306683</td>\n",
       "      <td>1</td>\n",
       "    </tr>\n",
       "    <tr>\n",
       "      <th>6755</th>\n",
       "      <td>2017-11-01</td>\n",
       "      <td>The biggest difference in my eyes is the fixed...</td>\n",
       "      <td>6665.306683</td>\n",
       "      <td>1</td>\n",
       "    </tr>\n",
       "    <tr>\n",
       "      <th>6756</th>\n",
       "      <td>2017-11-01</td>\n",
       "      <td>Bitcoin is cryptocurrency money. It is a elctr...</td>\n",
       "      <td>6665.306683</td>\n",
       "      <td>1</td>\n",
       "    </tr>\n",
       "    <tr>\n",
       "      <th>6757</th>\n",
       "      <td>2017-11-01</td>\n",
       "      <td>Lol first of all the biggest mistake you are d...</td>\n",
       "      <td>6665.306683</td>\n",
       "      <td>1</td>\n",
       "    </tr>\n",
       "    <tr>\n",
       "      <th>6758</th>\n",
       "      <td>2017-11-01</td>\n",
       "      <td>Lol first of all the biggest mistake you are d...</td>\n",
       "      <td>6665.306683</td>\n",
       "      <td>1</td>\n",
       "    </tr>\n",
       "    <tr>\n",
       "      <th>6759</th>\n",
       "      <td>2017-11-01</td>\n",
       "      <td>Lol first of all the biggest mistake you are d...</td>\n",
       "      <td>6665.306683</td>\n",
       "      <td>1</td>\n",
       "    </tr>\n",
       "    <tr>\n",
       "      <th>6760</th>\n",
       "      <td>2017-11-01</td>\n",
       "      <td>Both could be considered as currencies however...</td>\n",
       "      <td>6665.306683</td>\n",
       "      <td>1</td>\n",
       "    </tr>\n",
       "    <tr>\n",
       "      <th>6761</th>\n",
       "      <td>2017-11-01</td>\n",
       "      <td>Both could be considered as currencies however...</td>\n",
       "      <td>6665.306683</td>\n",
       "      <td>1</td>\n",
       "    </tr>\n",
       "    <tr>\n",
       "      <th>6762</th>\n",
       "      <td>2017-11-01</td>\n",
       "      <td>I think it's obvious, difference of fiat money...</td>\n",
       "      <td>6665.306683</td>\n",
       "      <td>1</td>\n",
       "    </tr>\n",
       "    <tr>\n",
       "      <th>6763</th>\n",
       "      <td>2017-11-01</td>\n",
       "      <td>Bitcoin is a digital currency and real money i...</td>\n",
       "      <td>6665.306683</td>\n",
       "      <td>1</td>\n",
       "    </tr>\n",
       "    <tr>\n",
       "      <th>6764</th>\n",
       "      <td>2017-11-01</td>\n",
       "      <td>is a digital currency and real money is local ...</td>\n",
       "      <td>6665.306683</td>\n",
       "      <td>1</td>\n",
       "    </tr>\n",
       "    <tr>\n",
       "      <th>6765</th>\n",
       "      <td>2017-11-01</td>\n",
       "      <td>I think it's obvious, difference of fiat money...</td>\n",
       "      <td>6665.306683</td>\n",
       "      <td>1</td>\n",
       "    </tr>\n",
       "    <tr>\n",
       "      <th>6766</th>\n",
       "      <td>2017-11-01</td>\n",
       "      <td>Bitcoin is a digital currency and real money i...</td>\n",
       "      <td>6665.306683</td>\n",
       "      <td>1</td>\n",
       "    </tr>\n",
       "    <tr>\n",
       "      <th>6767</th>\n",
       "      <td>2017-11-01</td>\n",
       "      <td>Bitcoin is a digital currency and real money i...</td>\n",
       "      <td>6665.306683</td>\n",
       "      <td>1</td>\n",
       "    </tr>\n",
       "    <tr>\n",
       "      <th>6768</th>\n",
       "      <td>2017-11-01</td>\n",
       "      <td>Lol first of all the biggest mistake you are d...</td>\n",
       "      <td>6665.306683</td>\n",
       "      <td>1</td>\n",
       "    </tr>\n",
       "    <tr>\n",
       "      <th>6769</th>\n",
       "      <td>2017-11-01</td>\n",
       "      <td>I've discovered Bitcoin few days ago, but I am...</td>\n",
       "      <td>6665.306683</td>\n",
       "      <td>1</td>\n",
       "    </tr>\n",
       "    <tr>\n",
       "      <th>6770</th>\n",
       "      <td>2017-11-01</td>\n",
       "      <td>I've discovered Bitcoin few days ago, but I am...</td>\n",
       "      <td>6665.306683</td>\n",
       "      <td>1</td>\n",
       "    </tr>\n",
       "    <tr>\n",
       "      <th>6771</th>\n",
       "      <td>2017-11-01</td>\n",
       "      <td>I've discovered Bitcoin few days ago, but I am...</td>\n",
       "      <td>6665.306683</td>\n",
       "      <td>1</td>\n",
       "    </tr>\n",
       "    <tr>\n",
       "      <th>6772</th>\n",
       "      <td>2017-11-01</td>\n",
       "      <td>You should not use the term \"real money\" in th...</td>\n",
       "      <td>6665.306683</td>\n",
       "      <td>1</td>\n",
       "    </tr>\n",
       "    <tr>\n",
       "      <th>6773</th>\n",
       "      <td>2017-11-01</td>\n",
       "      <td>The biggest difference in my eyes is the fixed...</td>\n",
       "      <td>6665.306683</td>\n",
       "      <td>1</td>\n",
       "    </tr>\n",
       "    <tr>\n",
       "      <th>6774</th>\n",
       "      <td>2017-11-01</td>\n",
       "      <td>The most obvious difference from real money an...</td>\n",
       "      <td>6665.306683</td>\n",
       "      <td>1</td>\n",
       "    </tr>\n",
       "    <tr>\n",
       "      <th>6775</th>\n",
       "      <td>2017-11-01</td>\n",
       "      <td>The most obvious difference from real money an...</td>\n",
       "      <td>6665.306683</td>\n",
       "      <td>1</td>\n",
       "    </tr>\n",
       "    <tr>\n",
       "      <th>6776</th>\n",
       "      <td>2017-11-01</td>\n",
       "      <td>Satoshi Nakamoto is planning to publish the Bi...</td>\n",
       "      <td>6665.306683</td>\n",
       "      <td>1</td>\n",
       "    </tr>\n",
       "    <tr>\n",
       "      <th>6777</th>\n",
       "      <td>2017-11-01</td>\n",
       "      <td>I've discovered Bitcoin few days ago, but I am...</td>\n",
       "      <td>6665.306683</td>\n",
       "      <td>1</td>\n",
       "    </tr>\n",
       "    <tr>\n",
       "      <th>6778</th>\n",
       "      <td>2017-11-01</td>\n",
       "      <td>The most obvious difference from real money an...</td>\n",
       "      <td>6665.306683</td>\n",
       "      <td>1</td>\n",
       "    </tr>\n",
       "    <tr>\n",
       "      <th>6779</th>\n",
       "      <td>2017-11-01</td>\n",
       "      <td>I've discovered Bitcoin few days ago, but I am...</td>\n",
       "      <td>6665.306683</td>\n",
       "      <td>1</td>\n",
       "    </tr>\n",
       "    <tr>\n",
       "      <th>6780</th>\n",
       "      <td>2017-11-01</td>\n",
       "      <td>Welcome to Bitcoin and to the Forum! The quest...</td>\n",
       "      <td>6665.306683</td>\n",
       "      <td>1</td>\n",
       "    </tr>\n",
       "    <tr>\n",
       "      <th>6781</th>\n",
       "      <td>2017-11-01</td>\n",
       "      <td>The most obvious difference from real money an...</td>\n",
       "      <td>6665.306683</td>\n",
       "      <td>1</td>\n",
       "    </tr>\n",
       "    <tr>\n",
       "      <th>6782</th>\n",
       "      <td>2017-11-01</td>\n",
       "      <td>The most obvious difference from real money an...</td>\n",
       "      <td>6665.306683</td>\n",
       "      <td>1</td>\n",
       "    </tr>\n",
       "    <tr>\n",
       "      <th>6783</th>\n",
       "      <td>2017-11-01</td>\n",
       "      <td>The most obvious difference from real money an...</td>\n",
       "      <td>6665.306683</td>\n",
       "      <td>1</td>\n",
       "    </tr>\n",
       "  </tbody>\n",
       "</table>\n",
       "<p>6784 rows × 4 columns</p>\n",
       "</div>"
      ],
      "text/plain": [
       "            Date                                               Post  \\\n",
       "0     2017-12-03             Why is it smart to invest in Bitcoin?    \n",
       "1     2017-12-03  Investing in bitcoin would be a very smart inv...   \n",
       "2     2017-12-03  Why is it smart to invest in Bitcoin? You can ...   \n",
       "3     2017-12-03  Its a currency that has continued to grow and ...   \n",
       "4     2017-12-03  It's worth to buy because people believe that ...   \n",
       "5     2017-12-03  Why is it smart to invest in Bitcoin? You can ...   \n",
       "6     2017-12-03  Why is it smart to invest in Bitcoin? You can ...   \n",
       "7     2017-12-03  Why is it smart to invest in Bitcoin? Simply b...   \n",
       "8     2017-12-03  It's worth to buy because people believe that ...   \n",
       "9     2017-12-03  It's your decision, but bitcoin has a bright f...   \n",
       "10    2017-12-03  Why is it smart to invest in Bitcoin? Simply b...   \n",
       "11    2017-12-03  Why is it smart to invest in Bitcoin? A lot of...   \n",
       "12    2017-12-03  You will found out why after a months just loo...   \n",
       "13    2017-12-03  yes I agree, invest in bitcoin because a lot o...   \n",
       "14    2017-12-03  Because the future looks bright bitcoin contin...   \n",
       "15    2017-12-03  Some think it's smart, some think it's a risk ...   \n",
       "16    2017-12-03  Investing in Bitcoins is like investing to the...   \n",
       "17    2017-12-03  because investing the funds owned to bitcoin w...   \n",
       "18    2017-12-03  Why is it smart to invest in Bitcoin? For me, ...   \n",
       "19    2017-12-03  It is great to invest in bitcoin since it is a...   \n",
       "20    2017-12-03  investing bitcoin is a clever way of being see...   \n",
       "21    2017-12-03  Is there any chance of bitcoin dying or never ...   \n",
       "22    2017-12-03  The high price volatility (price changes) in t...   \n",
       "23    2017-12-03  My answer will be yes. Bitcoin has the highest...   \n",
       "24    2017-12-03  not sure if it is smart or not if you invest n...   \n",
       "25    2017-12-03  investing bitcoin is a clever way of being see...   \n",
       "26    2017-12-03  Is there any chance of bitcoin dying or never ...   \n",
       "27    2017-12-03  Bitcoin is now on its appreciation period its ...   \n",
       "28    2017-12-03  Why is it smart to invest in Bitcoin? Investin...   \n",
       "29    2017-12-03  I am pretty sure this is an answer you already...   \n",
       "...          ...                                                ...   \n",
       "6754  2017-11-01  Even today I do not see much competition betwe...   \n",
       "6755  2017-11-01  The biggest difference in my eyes is the fixed...   \n",
       "6756  2017-11-01  Bitcoin is cryptocurrency money. It is a elctr...   \n",
       "6757  2017-11-01  Lol first of all the biggest mistake you are d...   \n",
       "6758  2017-11-01  Lol first of all the biggest mistake you are d...   \n",
       "6759  2017-11-01  Lol first of all the biggest mistake you are d...   \n",
       "6760  2017-11-01  Both could be considered as currencies however...   \n",
       "6761  2017-11-01  Both could be considered as currencies however...   \n",
       "6762  2017-11-01  I think it's obvious, difference of fiat money...   \n",
       "6763  2017-11-01  Bitcoin is a digital currency and real money i...   \n",
       "6764  2017-11-01  is a digital currency and real money is local ...   \n",
       "6765  2017-11-01  I think it's obvious, difference of fiat money...   \n",
       "6766  2017-11-01  Bitcoin is a digital currency and real money i...   \n",
       "6767  2017-11-01  Bitcoin is a digital currency and real money i...   \n",
       "6768  2017-11-01  Lol first of all the biggest mistake you are d...   \n",
       "6769  2017-11-01  I've discovered Bitcoin few days ago, but I am...   \n",
       "6770  2017-11-01  I've discovered Bitcoin few days ago, but I am...   \n",
       "6771  2017-11-01  I've discovered Bitcoin few days ago, but I am...   \n",
       "6772  2017-11-01  You should not use the term \"real money\" in th...   \n",
       "6773  2017-11-01  The biggest difference in my eyes is the fixed...   \n",
       "6774  2017-11-01  The most obvious difference from real money an...   \n",
       "6775  2017-11-01  The most obvious difference from real money an...   \n",
       "6776  2017-11-01  Satoshi Nakamoto is planning to publish the Bi...   \n",
       "6777  2017-11-01  I've discovered Bitcoin few days ago, but I am...   \n",
       "6778  2017-11-01  The most obvious difference from real money an...   \n",
       "6779  2017-11-01  I've discovered Bitcoin few days ago, but I am...   \n",
       "6780  2017-11-01  Welcome to Bitcoin and to the Forum! The quest...   \n",
       "6781  2017-11-01  The most obvious difference from real money an...   \n",
       "6782  2017-11-01  The most obvious difference from real money an...   \n",
       "6783  2017-11-01  The most obvious difference from real money an...   \n",
       "\n",
       "             Price  Sentiment  \n",
       "0     11332.622000          1  \n",
       "1     11332.622000          1  \n",
       "2     11332.622000          1  \n",
       "3     11332.622000          1  \n",
       "4     11332.622000          1  \n",
       "5     11332.622000          1  \n",
       "6     11332.622000          1  \n",
       "7     11332.622000          1  \n",
       "8     11332.622000          1  \n",
       "9     11332.622000          1  \n",
       "10    11332.622000          1  \n",
       "11    11332.622000          1  \n",
       "12    11332.622000          1  \n",
       "13    11332.622000          1  \n",
       "14    11332.622000          1  \n",
       "15    11332.622000          1  \n",
       "16    11332.622000          1  \n",
       "17    11332.622000          1  \n",
       "18    11332.622000          1  \n",
       "19    11332.622000          1  \n",
       "20    11332.622000          1  \n",
       "21    11332.622000          1  \n",
       "22    11332.622000          1  \n",
       "23    11332.622000          1  \n",
       "24    11332.622000          1  \n",
       "25    11332.622000          1  \n",
       "26    11332.622000          1  \n",
       "27    11332.622000          1  \n",
       "28    11332.622000          1  \n",
       "29    11332.622000          1  \n",
       "...            ...        ...  \n",
       "6754   6665.306683          1  \n",
       "6755   6665.306683          1  \n",
       "6756   6665.306683          1  \n",
       "6757   6665.306683          1  \n",
       "6758   6665.306683          1  \n",
       "6759   6665.306683          1  \n",
       "6760   6665.306683          1  \n",
       "6761   6665.306683          1  \n",
       "6762   6665.306683          1  \n",
       "6763   6665.306683          1  \n",
       "6764   6665.306683          1  \n",
       "6765   6665.306683          1  \n",
       "6766   6665.306683          1  \n",
       "6767   6665.306683          1  \n",
       "6768   6665.306683          1  \n",
       "6769   6665.306683          1  \n",
       "6770   6665.306683          1  \n",
       "6771   6665.306683          1  \n",
       "6772   6665.306683          1  \n",
       "6773   6665.306683          1  \n",
       "6774   6665.306683          1  \n",
       "6775   6665.306683          1  \n",
       "6776   6665.306683          1  \n",
       "6777   6665.306683          1  \n",
       "6778   6665.306683          1  \n",
       "6779   6665.306683          1  \n",
       "6780   6665.306683          1  \n",
       "6781   6665.306683          1  \n",
       "6782   6665.306683          1  \n",
       "6783   6665.306683          1  \n",
       "\n",
       "[6784 rows x 4 columns]"
      ]
     },
     "execution_count": 34,
     "metadata": {},
     "output_type": "execute_result"
    }
   ],
   "source": [
    "temp.head(6784)"
   ]
  },
  {
   "cell_type": "code",
   "execution_count": 35,
   "metadata": {
    "collapsed": true
   },
   "outputs": [],
   "source": [
    "sent = temp.drop('Price',1)"
   ]
  },
  {
   "cell_type": "code",
   "execution_count": 36,
   "metadata": {},
   "outputs": [
    {
     "data": {
      "text/plain": [
       "(18723, 3)"
      ]
     },
     "execution_count": 36,
     "metadata": {},
     "output_type": "execute_result"
    }
   ],
   "source": [
    "sent.shape"
   ]
  },
  {
   "cell_type": "code",
   "execution_count": 37,
   "metadata": {},
   "outputs": [
    {
     "name": "stdout",
     "output_type": "stream",
     "text": [
      " 1    10389\n",
      " 0     4328\n",
      "-1     4006\n",
      "Name: Sentiment, dtype: int64\n"
     ]
    },
    {
     "data": {
      "image/png": "[encoded data removed]",
      "text/plain": [
       "<matplotlib.figure.Figure at 0x1057f6a58>"
      ]
     },
     "metadata": {},
     "output_type": "display_data"
    }
   ],
   "source": [
    "print(sent.Sentiment.value_counts())\n",
    "sent.Sentiment.hist(); "
   ]
  },
  {
   "cell_type": "code",
   "execution_count": 38,
   "metadata": {},
   "outputs": [
    {
     "name": "stdout",
     "output_type": "stream",
     "text": [
      "Average character length of the posts are:\n",
      "500.9383645783261\n"
     ]
    }
   ],
   "source": [
    "#Apply length function to the review column\n",
    "lengths = sent.Post.apply(len)\n",
    "\n",
    "print('Average character length of the posts are:')\n",
    "print (np.mean(lengths))"
   ]
  },
  {
   "cell_type": "code",
   "execution_count": null,
   "metadata": {
    "collapsed": true
   },
   "outputs": [],
   "source": []
  },
  {
   "cell_type": "code",
   "execution_count": 39,
   "metadata": {
    "collapsed": true
   },
   "outputs": [],
   "source": [
    "import nltk\n",
    "#nltk.download()"
   ]
  },
  {
   "cell_type": "code",
   "execution_count": 40,
   "metadata": {
    "collapsed": true
   },
   "outputs": [],
   "source": [
    "from nltk.tokenize import sent_tokenize\n",
    "from nltk.stem import PorterStemmer\n",
    "from nltk.tag import pos_tag\n",
    "from nltk.corpus import stopwords\n",
    "from nltk.corpus import wordnet\n",
    "from nltk.stem import WordNetLemmatizer\n",
    "\n",
    "eng = stopwords.words('English')"
   ]
  },
  {
   "cell_type": "code",
   "execution_count": 41,
   "metadata": {
    "collapsed": true
   },
   "outputs": [],
   "source": [
    "def get_wordnet_pos(treebank_tag):\n",
    "\n",
    "    if treebank_tag.startswith('J'):\n",
    "        return wordnet.ADJ\n",
    "    elif treebank_tag.startswith('V'):\n",
    "        return wordnet.VERB\n",
    "    elif treebank_tag.startswith('N'):\n",
    "        return wordnet.NOUN\n",
    "    elif treebank_tag.startswith('R'):\n",
    "        return wordnet.ADV\n",
    "    else:\n",
    "        return 'n'"
   ]
  },
  {
   "cell_type": "code",
   "execution_count": 42,
   "metadata": {
    "collapsed": true
   },
   "outputs": [],
   "source": [
    "def post_cleaner(post):\n",
    "    \n",
    "    #1. Use regex to find emoticons\n",
    "    emoticons = re.findall('(?::|;|=)(?:-)?(?:\\)|\\(|D|P)', post)\n",
    "    \n",
    "    #2. Remove punctuation\n",
    "    post = re.sub(\"[^a-zA-Z]\", \" \",post)\n",
    "    \n",
    "    #3. Tokenize into words (all lower case)\n",
    "    post = post.lower().split()\n",
    "    \n",
    "    #4. Remove stopwords\n",
    "    eng_stopwords = set(stopwords.words(\"english\"))\n",
    "    post = [w for w in post if not w in eng_stopwords]\n",
    "    \n",
    "    #5. Join the review to one sentence\n",
    "    post = ' '.join(post+emoticons)\n",
    "    # add emoticons to the end\n",
    "\n",
    "    return(post)"
   ]
  },
  {
   "cell_type": "code",
   "execution_count": 43,
   "metadata": {},
   "outputs": [
    {
     "name": "stdout",
     "output_type": "stream",
     "text": [
      "Done with 500 posts\n",
      "Done with 1000 posts\n",
      "Done with 1500 posts\n",
      "Done with 2000 posts\n",
      "Done with 2500 posts\n",
      "Done with 3000 posts\n",
      "Done with 3500 posts\n",
      "Done with 4000 posts\n",
      "Done with 4500 posts\n",
      "Done with 5000 posts\n",
      "Done with 5500 posts\n",
      "Done with 6000 posts\n",
      "Done with 6500 posts\n",
      "Done with 7000 posts\n",
      "Done with 7500 posts\n",
      "Done with 8000 posts\n",
      "Done with 8500 posts\n",
      "Done with 9000 posts\n",
      "Done with 9500 posts\n",
      "Done with 10000 posts\n",
      "Done with 10500 posts\n",
      "Done with 11000 posts\n",
      "Done with 11500 posts\n",
      "Done with 12000 posts\n",
      "Done with 12500 posts\n",
      "Done with 13000 posts\n",
      "Done with 13500 posts\n",
      "Done with 14000 posts\n",
      "Done with 14500 posts\n",
      "Done with 15000 posts\n",
      "Done with 15500 posts\n",
      "Done with 16000 posts\n",
      "Done with 16500 posts\n",
      "Done with 17000 posts\n",
      "Done with 17500 posts\n",
      "Done with 18000 posts\n",
      "Done with 18500 posts\n",
      "CPU times: user 4.23 s, sys: 676 ms, total: 4.9 s\n",
      "Wall time: 5.04 s\n"
     ]
    }
   ],
   "source": [
    "%%time\n",
    "\n",
    "num_posts = len(sent['Post'])\n",
    "\n",
    "post_clean_original = []\n",
    "\n",
    "for i in range(0,num_posts):\n",
    "    if( (i+1)%500 == 0 ):\n",
    "        # print progress\n",
    "        print(\"Done with %d posts\" %(i+1)) \n",
    "    post_clean_original.append(post_cleaner(record['Post'][i]))"
   ]
  },
  {
   "cell_type": "code",
   "execution_count": 44,
   "metadata": {},
   "outputs": [
    {
     "name": "stdout",
     "output_type": "stream",
     "text": [
      "Done with 500 posts\n",
      "Done with 1000 posts\n",
      "Done with 1500 posts\n",
      "Done with 2000 posts\n",
      "Done with 2500 posts\n",
      "Done with 3000 posts\n",
      "Done with 3500 posts\n",
      "Done with 4000 posts\n",
      "Done with 4500 posts\n",
      "Done with 5000 posts\n",
      "Done with 5500 posts\n",
      "Done with 6000 posts\n",
      "Done with 6500 posts\n",
      "Done with 7000 posts\n",
      "Done with 7500 posts\n",
      "Done with 8000 posts\n",
      "Done with 8500 posts\n",
      "Done with 9000 posts\n",
      "Done with 9500 posts\n",
      "Done with 10000 posts\n",
      "Done with 10500 posts\n",
      "Done with 11000 posts\n",
      "Done with 11500 posts\n",
      "Done with 12000 posts\n",
      "Done with 12500 posts\n",
      "Done with 13000 posts\n",
      "Done with 13500 posts\n",
      "Done with 14000 posts\n",
      "Done with 14500 posts\n",
      "Done with 15000 posts\n",
      "Done with 15500 posts\n",
      "Done with 16000 posts\n",
      "Done with 16500 posts\n",
      "Done with 17000 posts\n",
      "Done with 17500 posts\n",
      "Done with 18000 posts\n",
      "Done with 18500 posts\n",
      "CPU times: user 49.6 s, sys: 867 ms, total: 50.4 s\n",
      "Wall time: 52.3 s\n"
     ]
    }
   ],
   "source": [
    "%%time\n",
    "# Lemmatizer\n",
    "\n",
    "post_clean_wnl = []\n",
    "\n",
    "wnl = WordNetLemmatizer()\n",
    "\n",
    "for i in range(0,num_posts):\n",
    "    if( (i+1)%500 == 0 ):\n",
    "        # print progress\n",
    "        print(\"Done with %d posts\" %(i+1)) \n",
    "    \n",
    "    wnl_stems = []\n",
    "    token_tag = pos_tag(post_clean_original[i].split())\n",
    "    for pair in token_tag:\n",
    "        res = wnl.lemmatize(pair[0],pos=get_wordnet_pos(pair[1]))\n",
    "        wnl_stems.append(res)\n",
    "\n",
    "    post_clean_wnl.append(' '.join(wnl_stems))"
   ]
  },
  {
   "cell_type": "code",
   "execution_count": 45,
   "metadata": {
    "collapsed": true
   },
   "outputs": [],
   "source": [
    "# from sklearn.ensemble import RandomForestClassifier\n",
    "# from sklearn.feature_extraction.text import CountVectorizer\n",
    "# from sklearn import metrics\n",
    "# from sklearn.model_selection import train_test_split\n",
    "\n",
    "# # put everything together in a function\n",
    "\n",
    "# def predict_sentiment(cleaned_posts, y=sent[\"Sentiment\"]):\n",
    "\n",
    "#     print(\"Creating the bag of words model..\\n\")\n",
    "#     # CountVectorizer\" is scikit-learn's bag of words tool, here we show more keywords \n",
    "#     vectorizer = CountVectorizer(analyzer = \"word\",   \\\n",
    "#                                  tokenizer = None,    \\\n",
    "#                                  preprocessor = None, \\\n",
    "#                                  stop_words = None,   \\\n",
    "#                                  max_features = 2000) \n",
    "    \n",
    "#     X_train, X_test, y_train, y_test = train_test_split(\\\n",
    "#     cleaned_posts, y, random_state=0, test_size=0.2)\n",
    "\n",
    "#     # Then we use fit_transform() to fit the model / learn the vocabulary,\n",
    "#     # then transform the data into feature vectors.\n",
    "#     # The input should be a list of strings. .toarraty() converts to a numpy array\n",
    "    \n",
    "#     train_bag = vectorizer.fit_transform(X_train).toarray()\n",
    "#     test_bag = vectorizer.transform(X_test).toarray()\n",
    "\n",
    "#     # You can extract the vocabulary created by CountVectorizer\n",
    "#     # by running print(vectorizer.get_feature_names())\n",
    "\n",
    "\n",
    "#     print(\"Training the random forest classifier..\\n\")\n",
    "#     # Initialize a Random Forest classifier with 75 trees\n",
    "#     forest = RandomForestClassifier(n_estimators = 50) \n",
    "\n",
    "#     # Fit the forest to the training set, using the bag of words as \n",
    "#     # features and the sentiment labels as the target variable\n",
    "#     forest = forest.fit(train_bag, y_train)\n",
    "\n",
    "\n",
    "#     train_predictions = forest.predict(train_bag)\n",
    "#     test_predictions = forest.predict(test_bag)\n",
    "    \n",
    "#     train_acc = metrics.accuracy_score(y_train, train_predictions)\n",
    "#     valid_acc = metrics.accuracy_score(y_test, test_predictions)\n",
    "#     print(\"The training accuracy is: \", train_acc, \"\\n\", \"The validation accuracy is: \", valid_acc)\n",
    "#     print()\n",
    "#     print()\n",
    "#     s = pd.DataFrame(pd.Series(test_predictions))\n",
    "#     return s\n",
    "#     print()\n",
    "#     print()\n",
    "#     #Extract feature importnace\n",
    "#     print('TOP TEN IMPORTANT FEATURES:')\n",
    "#     importances = forest.feature_importances_\n",
    "#     indices = np.argsort(importances)[::-1]\n",
    "#     top_10 = indices[:10]\n",
    "#     print([vectorizer.get_feature_names()[ind] for ind in top_10])"
   ]
  },
  {
   "cell_type": "code",
   "execution_count": 46,
   "metadata": {
    "collapsed": true
   },
   "outputs": [],
   "source": [
    "from sklearn.ensemble import RandomForestClassifier\n",
    "from sklearn.feature_extraction.text import CountVectorizer\n",
    "from sklearn import metrics\n",
    "from sklearn.model_selection import train_test_split\n",
    "\n",
    "# put everything together in a function\n",
    "\n",
    "def predict_sentiment(cleaned_posts, y=sent[\"Sentiment\"]):\n",
    "    print(\"Creating the bag of words model..\\n\")\n",
    "    # CountVectorizer\" is scikit-learn's bag of words tool, here we show more keywords \n",
    "    vectorizer = CountVectorizer(analyzer = \"word\",   \\\n",
    "                                 tokenizer = None,    \\\n",
    "                                 preprocessor = None, \\\n",
    "                                 stop_words = None,   \\\n",
    "                                 max_features = 2000) \n",
    "    \n",
    "    X_train = cleaned_posts[6784:18723]\n",
    "    X_test = cleaned_posts[0:6784]\n",
    "    y_train = y[6784:18723]\n",
    "    y_test = y[0:6784]\n",
    "\n",
    "    # Then we use fit_transform() to fit the model / learn the vocabulary,\n",
    "    # then transform the data into feature vectors.\n",
    "    # The input should be a list of strings. .toarraty() converts to a numpy array\n",
    "    \n",
    "    train_bag = vectorizer.fit_transform(X_train).toarray()\n",
    "    test_bag = vectorizer.transform(X_test).toarray()\n",
    "\n",
    "    # You can extract the vocabulary created by CountVectorizer\n",
    "    # by running print(vectorizer.get_feature_names())\n",
    "\n",
    "\n",
    "    print(\"Training the random forest classifier..\\n\")\n",
    "    # Initialize a Random Forest classifier with 75 trees\n",
    "    forest = RandomForestClassifier(n_estimators = 50) \n",
    "\n",
    "    # Fit the forest to the training set, using the bag of words as \n",
    "    # features and the sentiment labels as the target variable\n",
    "    forest = forest.fit(train_bag, y_train)\n",
    "\n",
    "\n",
    "    train_predictions = forest.predict(train_bag)\n",
    "    test_predictions = forest.predict(test_bag)\n",
    "    \n",
    "    train_acc = metrics.accuracy_score(y_train, train_predictions)\n",
    "    valid_acc = metrics.accuracy_score(y_test, test_predictions)\n",
    "    print(\"The training accuracy is: \", train_acc, \"\\n\", \"The validation accuracy is: \", valid_acc)\n",
    "    print()\n",
    "    print()\n",
    "    s = pd.DataFrame(pd.Series(test_predictions))\n",
    "    return s\n",
    "    print()\n",
    "    print()\n",
    "    #Extract feature importnace\n",
    "    print('TOP TEN IMPORTANT FEATURES:')\n",
    "    importances = forest.feature_importances_\n",
    "    indices = np.argsort(importances)[::-1]\n",
    "    top_10 = indices[:10]\n",
    "    print([vectorizer.get_feature_names()[ind] for ind in top_10])"
   ]
  },
  {
   "cell_type": "code",
   "execution_count": 47,
   "metadata": {},
   "outputs": [
    {
     "name": "stdout",
     "output_type": "stream",
     "text": [
      "Creating the bag of words model..\n",
      "\n",
      "Training the random forest classifier..\n",
      "\n",
      "The training accuracy is:  0.996230840104 \n",
      " The validation accuracy is:  0.575324292453\n",
      "\n",
      "\n"
     ]
    }
   ],
   "source": [
    "s = predict_sentiment(post_clean_original) #Accuracy measure with original sentences"
   ]
  },
  {
   "cell_type": "code",
   "execution_count": 48,
   "metadata": {},
   "outputs": [
    {
     "data": {
      "text/plain": [
       "pandas.core.series.Series"
      ]
     },
     "execution_count": 48,
     "metadata": {},
     "output_type": "execute_result"
    }
   ],
   "source": [
    "type(s[0])"
   ]
  },
  {
   "cell_type": "code",
   "execution_count": 49,
   "metadata": {
    "collapsed": true
   },
   "outputs": [],
   "source": [
    "test_date = sent['Date'][0:6784]"
   ]
  },
  {
   "cell_type": "code",
   "execution_count": 55,
   "metadata": {
    "collapsed": true
   },
   "outputs": [],
   "source": [
    "model = pd.concat([test_date,temp['Price'],s[0]],axis=1)"
   ]
  },
  {
   "cell_type": "code",
   "execution_count": 56,
   "metadata": {},
   "outputs": [
    {
     "data": {
      "text/html": [
       "<div>\n",
       "<style>\n",
       "    .dataframe thead tr:only-child th {\n",
       "        text-align: right;\n",
       "    }\n",
       "\n",
       "    .dataframe thead th {\n",
       "        text-align: left;\n",
       "    }\n",
       "\n",
       "    .dataframe tbody tr th {\n",
       "        vertical-align: top;\n",
       "    }\n",
       "</style>\n",
       "<table border=\"1\" class=\"dataframe\">\n",
       "  <thead>\n",
       "    <tr style=\"text-align: right;\">\n",
       "      <th></th>\n",
       "      <th>Date</th>\n",
       "      <th>Price</th>\n",
       "      <th>0</th>\n",
       "    </tr>\n",
       "  </thead>\n",
       "  <tbody>\n",
       "    <tr>\n",
       "      <th>0</th>\n",
       "      <td>2017-12-03</td>\n",
       "      <td>11332.622</td>\n",
       "      <td>1.0</td>\n",
       "    </tr>\n",
       "    <tr>\n",
       "      <th>1</th>\n",
       "      <td>2017-12-03</td>\n",
       "      <td>11332.622</td>\n",
       "      <td>-1.0</td>\n",
       "    </tr>\n",
       "    <tr>\n",
       "      <th>2</th>\n",
       "      <td>2017-12-03</td>\n",
       "      <td>11332.622</td>\n",
       "      <td>1.0</td>\n",
       "    </tr>\n",
       "    <tr>\n",
       "      <th>3</th>\n",
       "      <td>2017-12-03</td>\n",
       "      <td>11332.622</td>\n",
       "      <td>1.0</td>\n",
       "    </tr>\n",
       "    <tr>\n",
       "      <th>4</th>\n",
       "      <td>2017-12-03</td>\n",
       "      <td>11332.622</td>\n",
       "      <td>1.0</td>\n",
       "    </tr>\n",
       "  </tbody>\n",
       "</table>\n",
       "</div>"
      ],
      "text/plain": [
       "         Date      Price    0\n",
       "0  2017-12-03  11332.622  1.0\n",
       "1  2017-12-03  11332.622 -1.0\n",
       "2  2017-12-03  11332.622  1.0\n",
       "3  2017-12-03  11332.622  1.0\n",
       "4  2017-12-03  11332.622  1.0"
      ]
     },
     "execution_count": 56,
     "metadata": {},
     "output_type": "execute_result"
    }
   ],
   "source": [
    "model.head()"
   ]
  },
  {
   "cell_type": "code",
   "execution_count": 52,
   "metadata": {
    "collapsed": true
   },
   "outputs": [],
   "source": [
    "model.to_csv('model', sep='\\t', encoding='utf-8')"
   ]
  },
  {
   "cell_type": "code",
   "execution_count": 53,
   "metadata": {},
   "outputs": [
    {
     "name": "stdout",
     "output_type": "stream",
     "text": [
      "Creating the bag of words model..\n",
      "\n",
      "Training the random forest classifier..\n",
      "\n",
      "The training accuracy is:  0.996230840104 \n",
      " The validation accuracy is:  0.583726415094\n",
      "\n",
      "\n"
     ]
    },
    {
     "data": {
      "text/html": [
       "<div>\n",
       "<style>\n",
       "    .dataframe thead tr:only-child th {\n",
       "        text-align: right;\n",
       "    }\n",
       "\n",
       "    .dataframe thead th {\n",
       "        text-align: left;\n",
       "    }\n",
       "\n",
       "    .dataframe tbody tr th {\n",
       "        vertical-align: top;\n",
       "    }\n",
       "</style>\n",
       "<table border=\"1\" class=\"dataframe\">\n",
       "  <thead>\n",
       "    <tr style=\"text-align: right;\">\n",
       "      <th></th>\n",
       "      <th>0</th>\n",
       "    </tr>\n",
       "  </thead>\n",
       "  <tbody>\n",
       "    <tr>\n",
       "      <th>0</th>\n",
       "      <td>1</td>\n",
       "    </tr>\n",
       "    <tr>\n",
       "      <th>1</th>\n",
       "      <td>1</td>\n",
       "    </tr>\n",
       "    <tr>\n",
       "      <th>2</th>\n",
       "      <td>1</td>\n",
       "    </tr>\n",
       "    <tr>\n",
       "      <th>3</th>\n",
       "      <td>1</td>\n",
       "    </tr>\n",
       "    <tr>\n",
       "      <th>4</th>\n",
       "      <td>1</td>\n",
       "    </tr>\n",
       "    <tr>\n",
       "      <th>5</th>\n",
       "      <td>-1</td>\n",
       "    </tr>\n",
       "    <tr>\n",
       "      <th>6</th>\n",
       "      <td>-1</td>\n",
       "    </tr>\n",
       "    <tr>\n",
       "      <th>7</th>\n",
       "      <td>0</td>\n",
       "    </tr>\n",
       "    <tr>\n",
       "      <th>8</th>\n",
       "      <td>1</td>\n",
       "    </tr>\n",
       "    <tr>\n",
       "      <th>9</th>\n",
       "      <td>-1</td>\n",
       "    </tr>\n",
       "    <tr>\n",
       "      <th>10</th>\n",
       "      <td>0</td>\n",
       "    </tr>\n",
       "    <tr>\n",
       "      <th>11</th>\n",
       "      <td>1</td>\n",
       "    </tr>\n",
       "    <tr>\n",
       "      <th>12</th>\n",
       "      <td>1</td>\n",
       "    </tr>\n",
       "    <tr>\n",
       "      <th>13</th>\n",
       "      <td>1</td>\n",
       "    </tr>\n",
       "    <tr>\n",
       "      <th>14</th>\n",
       "      <td>0</td>\n",
       "    </tr>\n",
       "    <tr>\n",
       "      <th>15</th>\n",
       "      <td>1</td>\n",
       "    </tr>\n",
       "    <tr>\n",
       "      <th>16</th>\n",
       "      <td>-1</td>\n",
       "    </tr>\n",
       "    <tr>\n",
       "      <th>17</th>\n",
       "      <td>1</td>\n",
       "    </tr>\n",
       "    <tr>\n",
       "      <th>18</th>\n",
       "      <td>1</td>\n",
       "    </tr>\n",
       "    <tr>\n",
       "      <th>19</th>\n",
       "      <td>1</td>\n",
       "    </tr>\n",
       "    <tr>\n",
       "      <th>20</th>\n",
       "      <td>-1</td>\n",
       "    </tr>\n",
       "    <tr>\n",
       "      <th>21</th>\n",
       "      <td>1</td>\n",
       "    </tr>\n",
       "    <tr>\n",
       "      <th>22</th>\n",
       "      <td>0</td>\n",
       "    </tr>\n",
       "    <tr>\n",
       "      <th>23</th>\n",
       "      <td>-1</td>\n",
       "    </tr>\n",
       "    <tr>\n",
       "      <th>24</th>\n",
       "      <td>-1</td>\n",
       "    </tr>\n",
       "    <tr>\n",
       "      <th>25</th>\n",
       "      <td>-1</td>\n",
       "    </tr>\n",
       "    <tr>\n",
       "      <th>26</th>\n",
       "      <td>1</td>\n",
       "    </tr>\n",
       "    <tr>\n",
       "      <th>27</th>\n",
       "      <td>-1</td>\n",
       "    </tr>\n",
       "    <tr>\n",
       "      <th>28</th>\n",
       "      <td>0</td>\n",
       "    </tr>\n",
       "    <tr>\n",
       "      <th>29</th>\n",
       "      <td>1</td>\n",
       "    </tr>\n",
       "    <tr>\n",
       "      <th>...</th>\n",
       "      <td>...</td>\n",
       "    </tr>\n",
       "    <tr>\n",
       "      <th>6754</th>\n",
       "      <td>1</td>\n",
       "    </tr>\n",
       "    <tr>\n",
       "      <th>6755</th>\n",
       "      <td>1</td>\n",
       "    </tr>\n",
       "    <tr>\n",
       "      <th>6756</th>\n",
       "      <td>1</td>\n",
       "    </tr>\n",
       "    <tr>\n",
       "      <th>6757</th>\n",
       "      <td>0</td>\n",
       "    </tr>\n",
       "    <tr>\n",
       "      <th>6758</th>\n",
       "      <td>0</td>\n",
       "    </tr>\n",
       "    <tr>\n",
       "      <th>6759</th>\n",
       "      <td>0</td>\n",
       "    </tr>\n",
       "    <tr>\n",
       "      <th>6760</th>\n",
       "      <td>-1</td>\n",
       "    </tr>\n",
       "    <tr>\n",
       "      <th>6761</th>\n",
       "      <td>-1</td>\n",
       "    </tr>\n",
       "    <tr>\n",
       "      <th>6762</th>\n",
       "      <td>1</td>\n",
       "    </tr>\n",
       "    <tr>\n",
       "      <th>6763</th>\n",
       "      <td>1</td>\n",
       "    </tr>\n",
       "    <tr>\n",
       "      <th>6764</th>\n",
       "      <td>0</td>\n",
       "    </tr>\n",
       "    <tr>\n",
       "      <th>6765</th>\n",
       "      <td>1</td>\n",
       "    </tr>\n",
       "    <tr>\n",
       "      <th>6766</th>\n",
       "      <td>1</td>\n",
       "    </tr>\n",
       "    <tr>\n",
       "      <th>6767</th>\n",
       "      <td>1</td>\n",
       "    </tr>\n",
       "    <tr>\n",
       "      <th>6768</th>\n",
       "      <td>1</td>\n",
       "    </tr>\n",
       "    <tr>\n",
       "      <th>6769</th>\n",
       "      <td>1</td>\n",
       "    </tr>\n",
       "    <tr>\n",
       "      <th>6770</th>\n",
       "      <td>1</td>\n",
       "    </tr>\n",
       "    <tr>\n",
       "      <th>6771</th>\n",
       "      <td>1</td>\n",
       "    </tr>\n",
       "    <tr>\n",
       "      <th>6772</th>\n",
       "      <td>1</td>\n",
       "    </tr>\n",
       "    <tr>\n",
       "      <th>6773</th>\n",
       "      <td>1</td>\n",
       "    </tr>\n",
       "    <tr>\n",
       "      <th>6774</th>\n",
       "      <td>1</td>\n",
       "    </tr>\n",
       "    <tr>\n",
       "      <th>6775</th>\n",
       "      <td>1</td>\n",
       "    </tr>\n",
       "    <tr>\n",
       "      <th>6776</th>\n",
       "      <td>1</td>\n",
       "    </tr>\n",
       "    <tr>\n",
       "      <th>6777</th>\n",
       "      <td>1</td>\n",
       "    </tr>\n",
       "    <tr>\n",
       "      <th>6778</th>\n",
       "      <td>1</td>\n",
       "    </tr>\n",
       "    <tr>\n",
       "      <th>6779</th>\n",
       "      <td>1</td>\n",
       "    </tr>\n",
       "    <tr>\n",
       "      <th>6780</th>\n",
       "      <td>1</td>\n",
       "    </tr>\n",
       "    <tr>\n",
       "      <th>6781</th>\n",
       "      <td>1</td>\n",
       "    </tr>\n",
       "    <tr>\n",
       "      <th>6782</th>\n",
       "      <td>1</td>\n",
       "    </tr>\n",
       "    <tr>\n",
       "      <th>6783</th>\n",
       "      <td>1</td>\n",
       "    </tr>\n",
       "  </tbody>\n",
       "</table>\n",
       "<p>6784 rows × 1 columns</p>\n",
       "</div>"
      ],
      "text/plain": [
       "      0\n",
       "0     1\n",
       "1     1\n",
       "2     1\n",
       "3     1\n",
       "4     1\n",
       "5    -1\n",
       "6    -1\n",
       "7     0\n",
       "8     1\n",
       "9    -1\n",
       "10    0\n",
       "11    1\n",
       "12    1\n",
       "13    1\n",
       "14    0\n",
       "15    1\n",
       "16   -1\n",
       "17    1\n",
       "18    1\n",
       "19    1\n",
       "20   -1\n",
       "21    1\n",
       "22    0\n",
       "23   -1\n",
       "24   -1\n",
       "25   -1\n",
       "26    1\n",
       "27   -1\n",
       "28    0\n",
       "29    1\n",
       "...  ..\n",
       "6754  1\n",
       "6755  1\n",
       "6756  1\n",
       "6757  0\n",
       "6758  0\n",
       "6759  0\n",
       "6760 -1\n",
       "6761 -1\n",
       "6762  1\n",
       "6763  1\n",
       "6764  0\n",
       "6765  1\n",
       "6766  1\n",
       "6767  1\n",
       "6768  1\n",
       "6769  1\n",
       "6770  1\n",
       "6771  1\n",
       "6772  1\n",
       "6773  1\n",
       "6774  1\n",
       "6775  1\n",
       "6776  1\n",
       "6777  1\n",
       "6778  1\n",
       "6779  1\n",
       "6780  1\n",
       "6781  1\n",
       "6782  1\n",
       "6783  1\n",
       "\n",
       "[6784 rows x 1 columns]"
      ]
     },
     "execution_count": 53,
     "metadata": {},
     "output_type": "execute_result"
    }
   ],
   "source": [
    "predict_sentiment(post_clean_wnl) #Lemmatized sentences lead to lower accuracy"
   ]
  },
  {
   "cell_type": "code",
   "execution_count": 70,
   "metadata": {},
   "outputs": [
    {
     "data": {
      "text/html": [
       "<div>\n",
       "<style>\n",
       "    .dataframe thead tr:only-child th {\n",
       "        text-align: right;\n",
       "    }\n",
       "\n",
       "    .dataframe thead th {\n",
       "        text-align: left;\n",
       "    }\n",
       "\n",
       "    .dataframe tbody tr th {\n",
       "        vertical-align: top;\n",
       "    }\n",
       "</style>\n",
       "<table border=\"1\" class=\"dataframe\">\n",
       "  <thead>\n",
       "    <tr style=\"text-align: right;\">\n",
       "      <th></th>\n",
       "      <th>Date</th>\n",
       "      <th>Price</th>\n",
       "      <th>decision</th>\n",
       "    </tr>\n",
       "  </thead>\n",
       "  <tbody>\n",
       "    <tr>\n",
       "      <th>0</th>\n",
       "      <td>2017-12-03</td>\n",
       "      <td>11332.622</td>\n",
       "      <td>1.0</td>\n",
       "    </tr>\n",
       "    <tr>\n",
       "      <th>1</th>\n",
       "      <td>2017-12-03</td>\n",
       "      <td>11332.622</td>\n",
       "      <td>-1.0</td>\n",
       "    </tr>\n",
       "    <tr>\n",
       "      <th>2</th>\n",
       "      <td>2017-12-03</td>\n",
       "      <td>11332.622</td>\n",
       "      <td>1.0</td>\n",
       "    </tr>\n",
       "    <tr>\n",
       "      <th>3</th>\n",
       "      <td>2017-12-03</td>\n",
       "      <td>11332.622</td>\n",
       "      <td>1.0</td>\n",
       "    </tr>\n",
       "    <tr>\n",
       "      <th>4</th>\n",
       "      <td>2017-12-03</td>\n",
       "      <td>11332.622</td>\n",
       "      <td>1.0</td>\n",
       "    </tr>\n",
       "  </tbody>\n",
       "</table>\n",
       "</div>"
      ],
      "text/plain": [
       "         Date      Price  decision\n",
       "0  2017-12-03  11332.622       1.0\n",
       "1  2017-12-03  11332.622      -1.0\n",
       "2  2017-12-03  11332.622       1.0\n",
       "3  2017-12-03  11332.622       1.0\n",
       "4  2017-12-03  11332.622       1.0"
      ]
     },
     "execution_count": 70,
     "metadata": {},
     "output_type": "execute_result"
    }
   ],
   "source": [
    "model.head()"
   ]
  },
  {
   "cell_type": "code",
   "execution_count": 69,
   "metadata": {},
   "outputs": [],
   "source": [
    "model.rename(columns={0: \"decision\"}, inplace=True)"
   ]
  },
  {
   "cell_type": "code",
   "execution_count": 71,
   "metadata": {
    "collapsed": true
   },
   "outputs": [],
   "source": [
    "def simulation_traiding(dataframe, invest=1, btc=0):\n",
    "    count = 0\n",
    "    for index, row in dataframe.iterrows():\n",
    "        if row[\"decision\"] == 1:\n",
    "            if btc > 0:\n",
    "                invest = btc*row[\"Price\"]\n",
    "                btc = 0\n",
    "                count = count + 1 \n",
    "        if row[\"decision\"] == -1:\n",
    "            if invest > 0:\n",
    "                btc = invest/row[\"Price\"]\n",
    "                invest = 0\n",
    "                count = count + 1 \n",
    "    return row[\"Price\"]*btc + invest,count"
   ]
  },
  {
   "cell_type": "code",
   "execution_count": 73,
   "metadata": {},
   "outputs": [
    {
     "data": {
      "text/plain": [
       "(8552.34352489027, 940)"
      ]
     },
     "execution_count": 73,
     "metadata": {},
     "output_type": "execute_result"
    }
   ],
   "source": [
    "simulation_traiding(model,10000)"
   ]
  },
  {
   "cell_type": "code",
   "execution_count": null,
   "metadata": {
    "collapsed": true
   },
   "outputs": [],
   "source": []
  }
 ],
 "metadata": {
  "kernelspec": {
   "display_name": "Python 3",
   "language": "python",
   "name": "python3"
  },
  "language_info": {
   "codemirror_mode": {
    "name": "ipython",
    "version": 3
   },
   "file_extension": ".py",
   "mimetype": "text/x-python",
   "name": "python",
   "nbconvert_exporter": "python",
   "pygments_lexer": "ipython3",
   "version": "3.6.3"
  }
 },
 "nbformat": 4,
 "nbformat_minor": 2
}
