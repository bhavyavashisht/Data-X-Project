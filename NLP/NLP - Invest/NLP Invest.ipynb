{
 "cells": [
  {
   "cell_type": "code",
   "execution_count": 223,
   "metadata": {
    "collapsed": true
   },
   "outputs": [],
   "source": [
    "import requests\n",
    "import bs4 as bs\n",
    "import pandas as pd\n",
    "import numpy as np\n",
    "import warnings\n",
    "import re\n",
    "import datetime\n",
    "import time\n",
    "warnings.filterwarnings('ignore')\n",
    "\n",
    "import matplotlib.pyplot as plt\n",
    "%matplotlib inline\n",
    "from __future__ import print_function, division, absolute_import #make compatible with Python 2 and Python 3"
   ]
  },
  {
   "cell_type": "code",
   "execution_count": 182,
   "metadata": {},
   "outputs": [
    {
     "name": "stdout",
     "output_type": "stream",
     "text": [
      "25 pages completed!\n",
      "50 pages completed!\n",
      "75 pages completed!\n",
      "100 pages completed!\n",
      "125 pages completed!\n",
      "150 pages completed!\n",
      "175 pages completed!\n",
      "200 pages completed!\n",
      "225 pages completed!\n"
     ]
    }
   ],
   "source": [
    "#Scraping code for InvestFeed\n",
    "record = pd.DataFrame()\n",
    "for i in range(0,241):\n",
    "    post=[]\n",
    "    date=[]\n",
    "    url = \"https://www.investfeed.com/currency/BTC?page=\"+str(i+1)\n",
    "    soup = bs.BeautifulSoup(requests.get(url).text, \"html.parser\")\n",
    "    content = soup.find_all('div', attrs={'class': 'post-content'})\n",
    "    date_time = soup.find_all('div',attrs={'class':'floated-right'})\n",
    "    for x in range(len(content)):\n",
    "        post.append(re.sub(r'\\s+', ' ', content[x].text))\n",
    "        date.append(re.sub(r'\\s+',' ',date_time[x].text))\n",
    "    if (i+1)%25 == 0:\n",
    "        print('{} pages completed!'.format(i+1))\n",
    "    t1 = pd.Series(date)\n",
    "    t2 = pd.Series(post)\n",
    "    temp_record = pd.concat([t1,t2],axis=1)\n",
    "    record = pd.concat([record,temp_record]).reset_index(drop=True)"
   ]
  },
  {
   "cell_type": "code",
   "execution_count": 183,
   "metadata": {},
   "outputs": [
    {
     "data": {
      "text/plain": [
       "(2404, 2)"
      ]
     },
     "execution_count": 183,
     "metadata": {},
     "output_type": "execute_result"
    }
   ],
   "source": [
    "record.shape"
   ]
  },
  {
   "cell_type": "code",
   "execution_count": 191,
   "metadata": {},
   "outputs": [
    {
     "data": {
      "text/html": [
       "<div>\n",
       "<style>\n",
       "    .dataframe thead tr:only-child th {\n",
       "        text-align: right;\n",
       "    }\n",
       "\n",
       "    .dataframe thead th {\n",
       "        text-align: left;\n",
       "    }\n",
       "\n",
       "    .dataframe tbody tr th {\n",
       "        vertical-align: top;\n",
       "    }\n",
       "</style>\n",
       "<table border=\"1\" class=\"dataframe\">\n",
       "  <thead>\n",
       "    <tr style=\"text-align: right;\">\n",
       "      <th></th>\n",
       "      <th>Date</th>\n",
       "      <th>Post</th>\n",
       "    </tr>\n",
       "  </thead>\n",
       "  <tbody>\n",
       "    <tr>\n",
       "      <th>0</th>\n",
       "      <td>2017-11-30</td>\n",
       "      <td>Happiness All Over Crypto World!! Best Year E...</td>\n",
       "    </tr>\n",
       "    <tr>\n",
       "      <th>1</th>\n",
       "      <td>2017-11-30</td>\n",
       "      <td>$BTC So far a standard correction with price ...</td>\n",
       "    </tr>\n",
       "    <tr>\n",
       "      <th>2</th>\n",
       "      <td>2017-11-30</td>\n",
       "      <td>Yo Yo Yo! $BTC</td>\n",
       "    </tr>\n",
       "    <tr>\n",
       "      <th>3</th>\n",
       "      <td>2017-11-30</td>\n",
       "      <td>#bit of #humor in the tape #bitcoinATM #miner...</td>\n",
       "    </tr>\n",
       "    <tr>\n",
       "      <th>4</th>\n",
       "      <td>2017-11-30</td>\n",
       "      <td>#bit of #humor in the tape #bitcoinATM #miner...</td>\n",
       "    </tr>\n",
       "    <tr>\n",
       "      <th>5</th>\n",
       "      <td>2017-11-30</td>\n",
       "      <td>#bit of #humor in the tape #bitcoinATM #miner...</td>\n",
       "    </tr>\n",
       "    <tr>\n",
       "      <th>6</th>\n",
       "      <td>2017-11-30</td>\n",
       "      <td>#bit of #humor in the tape #bitcoinATM #miner...</td>\n",
       "    </tr>\n",
       "    <tr>\n",
       "      <th>7</th>\n",
       "      <td>2017-11-30</td>\n",
       "      <td>#Coinbase #IRS #Crypto #Cryptocurrency #Bitco...</td>\n",
       "    </tr>\n",
       "    <tr>\n",
       "      <th>8</th>\n",
       "      <td>2017-11-30</td>\n",
       "      <td>Wall Street Journal first page today #bitcoin...</td>\n",
       "    </tr>\n",
       "    <tr>\n",
       "      <th>9</th>\n",
       "      <td>2017-11-30</td>\n",
       "      <td>John McAfee voit le Bitcoin à 1 million de $ ...</td>\n",
       "    </tr>\n",
       "    <tr>\n",
       "      <th>10</th>\n",
       "      <td>2017-11-30</td>\n",
       "      <td>Great buying opportunites today! Where does o...</td>\n",
       "    </tr>\n",
       "    <tr>\n",
       "      <th>11</th>\n",
       "      <td>2017-11-30</td>\n",
       "      <td>$NEO last day to sign up for free neoconnect ...</td>\n",
       "    </tr>\n",
       "    <tr>\n",
       "      <th>12</th>\n",
       "      <td>2017-11-30</td>\n",
       "      <td>So we have are having a healthy sell-off as e...</td>\n",
       "    </tr>\n",
       "    <tr>\n",
       "      <th>13</th>\n",
       "      <td>2017-11-30</td>\n",
       "      <td>Correction time! Big time! #Crypto #Cryptocur...</td>\n",
       "    </tr>\n",
       "    <tr>\n",
       "      <th>14</th>\n",
       "      <td>2017-11-30</td>\n",
       "      <td>$BTC is creating a potential bearish reversal...</td>\n",
       "    </tr>\n",
       "    <tr>\n",
       "      <th>15</th>\n",
       "      <td>2017-11-30</td>\n",
       "      <td>Big money? Or just a million new $BTC owners?...</td>\n",
       "    </tr>\n",
       "    <tr>\n",
       "      <th>16</th>\n",
       "      <td>2017-11-30</td>\n",
       "      <td>$40 Billion in and $40 Billion out of the mar...</td>\n",
       "    </tr>\n",
       "    <tr>\n",
       "      <th>17</th>\n",
       "      <td>2017-11-30</td>\n",
       "      <td>Today positions, my portfolio is still resist...</td>\n",
       "    </tr>\n",
       "    <tr>\n",
       "      <th>18</th>\n",
       "      <td>2017-11-30</td>\n",
       "      <td>PRESALE KingCash IS LIVE! Selling hot. Get in...</td>\n",
       "    </tr>\n",
       "    <tr>\n",
       "      <th>19</th>\n",
       "      <td>2017-11-30</td>\n",
       "      <td>New Video - ARE BITCOINS JUST MODERN TULIPS? ...</td>\n",
       "    </tr>\n",
       "    <tr>\n",
       "      <th>20</th>\n",
       "      <td>2017-11-30</td>\n",
       "      <td>what coin to jump in? or should we stay in bt...</td>\n",
       "    </tr>\n",
       "    <tr>\n",
       "      <th>21</th>\n",
       "      <td>2017-11-30</td>\n",
       "      <td>So when $BTC tumbles, where do you think it'l...</td>\n",
       "    </tr>\n",
       "    <tr>\n",
       "      <th>22</th>\n",
       "      <td>2017-11-30</td>\n",
       "      <td>Mc Afee Prediction #btc http://ifeed.io/WfrNU...</td>\n",
       "    </tr>\n",
       "    <tr>\n",
       "      <th>23</th>\n",
       "      <td>2017-11-29</td>\n",
       "      <td>#bear or #Bulls ??? #bitcoinATM #miners #btc ...</td>\n",
       "    </tr>\n",
       "    <tr>\n",
       "      <th>24</th>\n",
       "      <td>2017-11-29</td>\n",
       "      <td>#bitcoinprice $9K not $12K #bitcoinATM #miner...</td>\n",
       "    </tr>\n",
       "  </tbody>\n",
       "</table>\n",
       "</div>"
      ],
      "text/plain": [
       "          Date                                               Post\n",
       "0   2017-11-30   Happiness All Over Crypto World!! Best Year E...\n",
       "1   2017-11-30   $BTC So far a standard correction with price ...\n",
       "2   2017-11-30                                    Yo Yo Yo! $BTC \n",
       "3   2017-11-30   #bit of #humor in the tape #bitcoinATM #miner...\n",
       "4   2017-11-30   #bit of #humor in the tape #bitcoinATM #miner...\n",
       "5   2017-11-30   #bit of #humor in the tape #bitcoinATM #miner...\n",
       "6   2017-11-30   #bit of #humor in the tape #bitcoinATM #miner...\n",
       "7   2017-11-30   #Coinbase #IRS #Crypto #Cryptocurrency #Bitco...\n",
       "8   2017-11-30   Wall Street Journal first page today #bitcoin...\n",
       "9   2017-11-30   John McAfee voit le Bitcoin à 1 million de $ ...\n",
       "10  2017-11-30   Great buying opportunites today! Where does o...\n",
       "11  2017-11-30   $NEO last day to sign up for free neoconnect ...\n",
       "12  2017-11-30   So we have are having a healthy sell-off as e...\n",
       "13  2017-11-30   Correction time! Big time! #Crypto #Cryptocur...\n",
       "14  2017-11-30   $BTC is creating a potential bearish reversal...\n",
       "15  2017-11-30   Big money? Or just a million new $BTC owners?...\n",
       "16  2017-11-30   $40 Billion in and $40 Billion out of the mar...\n",
       "17  2017-11-30   Today positions, my portfolio is still resist...\n",
       "18  2017-11-30   PRESALE KingCash IS LIVE! Selling hot. Get in...\n",
       "19  2017-11-30   New Video - ARE BITCOINS JUST MODERN TULIPS? ...\n",
       "20  2017-11-30   what coin to jump in? or should we stay in bt...\n",
       "21  2017-11-30   So when $BTC tumbles, where do you think it'l...\n",
       "22  2017-11-30   Mc Afee Prediction #btc http://ifeed.io/WfrNU...\n",
       "23  2017-11-29   #bear or #Bulls ??? #bitcoinATM #miners #btc ...\n",
       "24  2017-11-29   #bitcoinprice $9K not $12K #bitcoinATM #miner..."
      ]
     },
     "execution_count": 191,
     "metadata": {},
     "output_type": "execute_result"
    }
   ],
   "source": [
    "record.head(25)"
   ]
  },
  {
   "cell_type": "code",
   "execution_count": 131,
   "metadata": {
    "collapsed": true
   },
   "outputs": [],
   "source": [
    "#record = record.drop(record[record.index > 2264].index) #Elements beyond this had random content. 2264 captures all posts."
   ]
  },
  {
   "cell_type": "code",
   "execution_count": 187,
   "metadata": {
    "collapsed": true
   },
   "outputs": [],
   "source": [
    "record = record.rename(columns = {0:'Date',1:'Post'})"
   ]
  },
  {
   "cell_type": "code",
   "execution_count": 188,
   "metadata": {
    "collapsed": true
   },
   "outputs": [],
   "source": [
    "record['Date'] = pd.to_datetime(record['Date']).dt.date #Converting from str to datetime obj and retaining just the dates"
   ]
  },
  {
   "cell_type": "code",
   "execution_count": 192,
   "metadata": {
    "collapsed": true
   },
   "outputs": [],
   "source": [
    "record = record.iloc[23:].reset_index(drop=True) #Prices unavailable for Novmeber 30th"
   ]
  },
  {
   "cell_type": "code",
   "execution_count": 193,
   "metadata": {},
   "outputs": [],
   "source": [
    "col_names = ['Date','Price']\n",
    "btc = pd.read_csv('btc_price.csv',header=None,names=col_names)"
   ]
  },
  {
   "cell_type": "code",
   "execution_count": 194,
   "metadata": {},
   "outputs": [
    {
     "name": "stdout",
     "output_type": "stream",
     "text": [
      "(365, 2)\n"
     ]
    },
    {
     "data": {
      "text/html": [
       "<div>\n",
       "<style>\n",
       "    .dataframe thead tr:only-child th {\n",
       "        text-align: right;\n",
       "    }\n",
       "\n",
       "    .dataframe thead th {\n",
       "        text-align: left;\n",
       "    }\n",
       "\n",
       "    .dataframe tbody tr th {\n",
       "        vertical-align: top;\n",
       "    }\n",
       "</style>\n",
       "<table border=\"1\" class=\"dataframe\">\n",
       "  <thead>\n",
       "    <tr style=\"text-align: right;\">\n",
       "      <th></th>\n",
       "      <th>Date</th>\n",
       "      <th>Price</th>\n",
       "    </tr>\n",
       "  </thead>\n",
       "  <tbody>\n",
       "    <tr>\n",
       "      <th>0</th>\n",
       "      <td>2016-11-30 00:00:00</td>\n",
       "      <td>742.696762</td>\n",
       "    </tr>\n",
       "    <tr>\n",
       "      <th>1</th>\n",
       "      <td>2016-12-01 00:00:00</td>\n",
       "      <td>752.246125</td>\n",
       "    </tr>\n",
       "    <tr>\n",
       "      <th>2</th>\n",
       "      <td>2016-12-02 00:00:00</td>\n",
       "      <td>772.437250</td>\n",
       "    </tr>\n",
       "    <tr>\n",
       "      <th>3</th>\n",
       "      <td>2016-12-03 00:00:00</td>\n",
       "      <td>764.339625</td>\n",
       "    </tr>\n",
       "    <tr>\n",
       "      <th>4</th>\n",
       "      <td>2016-12-04 00:00:00</td>\n",
       "      <td>764.816250</td>\n",
       "    </tr>\n",
       "  </tbody>\n",
       "</table>\n",
       "</div>"
      ],
      "text/plain": [
       "                  Date       Price\n",
       "0  2016-11-30 00:00:00  742.696762\n",
       "1  2016-12-01 00:00:00  752.246125\n",
       "2  2016-12-02 00:00:00  772.437250\n",
       "3  2016-12-03 00:00:00  764.339625\n",
       "4  2016-12-04 00:00:00  764.816250"
      ]
     },
     "execution_count": 194,
     "metadata": {},
     "output_type": "execute_result"
    }
   ],
   "source": [
    "print(btc.shape)\n",
    "btc.head()"
   ]
  },
  {
   "cell_type": "code",
   "execution_count": 195,
   "metadata": {
    "collapsed": true
   },
   "outputs": [],
   "source": [
    "#Setting labels for the Bitcoin prices to perform Sentiment Analysis\n",
    "label=[]\n",
    "for i in range(1,btc.shape[0]):\n",
    "    if (btc.iat[i,1]>btc.iat[i-1,1]):\n",
    "        btc.loc[btc.index[i],'Sentiment']=1\n",
    "    else:\n",
    "        btc.loc[btc.index[i],'Sentiment']=0\n",
    "btc.loc[btc.index[0],'Sentiment']=0 #To match indices with btc. This false value will anyway go away when we trim BTC to match record df.\n",
    "btc['Sentiment'] = btc['Sentiment'].astype(int)"
   ]
  },
  {
   "cell_type": "code",
   "execution_count": 196,
   "metadata": {
    "collapsed": true
   },
   "outputs": [],
   "source": [
    "btc['Date'] = pd.to_datetime(btc['Date']).dt.date"
   ]
  },
  {
   "cell_type": "code",
   "execution_count": 257,
   "metadata": {},
   "outputs": [
    {
     "data": {
      "text/html": [
       "<div>\n",
       "<style>\n",
       "    .dataframe thead tr:only-child th {\n",
       "        text-align: right;\n",
       "    }\n",
       "\n",
       "    .dataframe thead th {\n",
       "        text-align: left;\n",
       "    }\n",
       "\n",
       "    .dataframe tbody tr th {\n",
       "        vertical-align: top;\n",
       "    }\n",
       "</style>\n",
       "<table border=\"1\" class=\"dataframe\">\n",
       "  <thead>\n",
       "    <tr style=\"text-align: right;\">\n",
       "      <th></th>\n",
       "      <th>Date</th>\n",
       "      <th>Price</th>\n",
       "      <th>Sentiment</th>\n",
       "    </tr>\n",
       "  </thead>\n",
       "  <tbody>\n",
       "    <tr>\n",
       "      <th>360</th>\n",
       "      <td>2017-11-25</td>\n",
       "      <td>8707.407267</td>\n",
       "      <td>1</td>\n",
       "    </tr>\n",
       "    <tr>\n",
       "      <th>361</th>\n",
       "      <td>2017-11-26</td>\n",
       "      <td>9284.143800</td>\n",
       "      <td>1</td>\n",
       "    </tr>\n",
       "    <tr>\n",
       "      <th>362</th>\n",
       "      <td>2017-11-27</td>\n",
       "      <td>9718.295050</td>\n",
       "      <td>1</td>\n",
       "    </tr>\n",
       "    <tr>\n",
       "      <th>363</th>\n",
       "      <td>2017-11-28</td>\n",
       "      <td>9952.508820</td>\n",
       "      <td>1</td>\n",
       "    </tr>\n",
       "    <tr>\n",
       "      <th>364</th>\n",
       "      <td>2017-11-29</td>\n",
       "      <td>9879.328333</td>\n",
       "      <td>0</td>\n",
       "    </tr>\n",
       "  </tbody>\n",
       "</table>\n",
       "</div>"
      ],
      "text/plain": [
       "           Date        Price  Sentiment\n",
       "360  2017-11-25  8707.407267          1\n",
       "361  2017-11-26  9284.143800          1\n",
       "362  2017-11-27  9718.295050          1\n",
       "363  2017-11-28  9952.508820          1\n",
       "364  2017-11-29  9879.328333          0"
      ]
     },
     "execution_count": 257,
     "metadata": {},
     "output_type": "execute_result"
    }
   ],
   "source": [
    "btc.tail()"
   ]
  },
  {
   "cell_type": "code",
   "execution_count": 297,
   "metadata": {},
   "outputs": [],
   "source": [
    "temp = record.merge(btc, on='Date', how='inner')"
   ]
  },
  {
   "cell_type": "code",
   "execution_count": 298,
   "metadata": {},
   "outputs": [],
   "source": [
    "sent = temp.drop('Price',1)"
   ]
  },
  {
   "cell_type": "code",
   "execution_count": 299,
   "metadata": {},
   "outputs": [
    {
     "data": {
      "text/html": [
       "<div>\n",
       "<style>\n",
       "    .dataframe thead tr:only-child th {\n",
       "        text-align: right;\n",
       "    }\n",
       "\n",
       "    .dataframe thead th {\n",
       "        text-align: left;\n",
       "    }\n",
       "\n",
       "    .dataframe tbody tr th {\n",
       "        vertical-align: top;\n",
       "    }\n",
       "</style>\n",
       "<table border=\"1\" class=\"dataframe\">\n",
       "  <thead>\n",
       "    <tr style=\"text-align: right;\">\n",
       "      <th></th>\n",
       "      <th>Date</th>\n",
       "      <th>Post</th>\n",
       "      <th>Sentiment</th>\n",
       "    </tr>\n",
       "  </thead>\n",
       "  <tbody>\n",
       "    <tr>\n",
       "      <th>0</th>\n",
       "      <td>2017-11-29</td>\n",
       "      <td>#bear or #Bulls ??? #bitcoinATM #miners #btc ...</td>\n",
       "      <td>0</td>\n",
       "    </tr>\n",
       "    <tr>\n",
       "      <th>1</th>\n",
       "      <td>2017-11-29</td>\n",
       "      <td>#bitcoinprice $9K not $12K #bitcoinATM #miner...</td>\n",
       "      <td>0</td>\n",
       "    </tr>\n",
       "    <tr>\n",
       "      <th>2</th>\n",
       "      <td>2017-11-29</td>\n",
       "      <td>#bitcoinprice $9K not $12K #bitcoinATM #miner...</td>\n",
       "      <td>0</td>\n",
       "    </tr>\n",
       "    <tr>\n",
       "      <th>3</th>\n",
       "      <td>2017-11-29</td>\n",
       "      <td>#bitcoinprice $9K not $12K #bitcoinATM #miner...</td>\n",
       "      <td>0</td>\n",
       "    </tr>\n",
       "    <tr>\n",
       "      <th>4</th>\n",
       "      <td>2017-11-29</td>\n",
       "      <td>If $BTC is outlawed, then call me an outlaw. ...</td>\n",
       "      <td>0</td>\n",
       "    </tr>\n",
       "  </tbody>\n",
       "</table>\n",
       "</div>"
      ],
      "text/plain": [
       "         Date                                               Post  Sentiment\n",
       "0  2017-11-29   #bear or #Bulls ??? #bitcoinATM #miners #btc ...          0\n",
       "1  2017-11-29   #bitcoinprice $9K not $12K #bitcoinATM #miner...          0\n",
       "2  2017-11-29   #bitcoinprice $9K not $12K #bitcoinATM #miner...          0\n",
       "3  2017-11-29   #bitcoinprice $9K not $12K #bitcoinATM #miner...          0\n",
       "4  2017-11-29   If $BTC is outlawed, then call me an outlaw. ...          0"
      ]
     },
     "execution_count": 299,
     "metadata": {},
     "output_type": "execute_result"
    }
   ],
   "source": [
    "sent.head()"
   ]
  },
  {
   "cell_type": "code",
   "execution_count": 300,
   "metadata": {},
   "outputs": [
    {
     "data": {
      "text/plain": [
       "(2381, 3)"
      ]
     },
     "execution_count": 300,
     "metadata": {},
     "output_type": "execute_result"
    }
   ],
   "source": [
    "sent.shape"
   ]
  },
  {
   "cell_type": "code",
   "execution_count": 301,
   "metadata": {},
   "outputs": [
    {
     "name": "stdout",
     "output_type": "stream",
     "text": [
      "1    1411\n",
      "0     970\n",
      "Name: Sentiment, dtype: int64\n"
     ]
    },
    {
     "data": {
      "image/png": "[encoded data removed]",
      "text/plain": [
       "<matplotlib.figure.Figure at 0x1a41f9aa20>"
      ]
     },
     "metadata": {},
     "output_type": "display_data"
    }
   ],
   "source": [
    "print(sent.Sentiment.value_counts())\n",
    "sent.Sentiment.hist(); "
   ]
  },
  {
   "cell_type": "code",
   "execution_count": 302,
   "metadata": {},
   "outputs": [
    {
     "name": "stdout",
     "output_type": "stream",
     "text": [
      "Average character length of the posts are:\n",
      "240.93616127677447\n"
     ]
    }
   ],
   "source": [
    "#Apply length function to the review column\n",
    "lengths = sent.Post.apply(len)\n",
    "\n",
    "print('Average character length of the posts are:')\n",
    "print (np.mean(lengths))"
   ]
  },
  {
   "cell_type": "markdown",
   "metadata": {},
   "source": [
    "# NLP"
   ]
  },
  {
   "cell_type": "code",
   "execution_count": 303,
   "metadata": {},
   "outputs": [],
   "source": [
    "import nltk\n",
    "#nltk.download()"
   ]
  },
  {
   "cell_type": "code",
   "execution_count": 304,
   "metadata": {},
   "outputs": [],
   "source": [
    "from nltk.tokenize import sent_tokenize\n",
    "from nltk.stem import PorterStemmer\n",
    "from nltk.tag import pos_tag\n",
    "from nltk.corpus import stopwords\n",
    "from nltk.corpus import wordnet\n",
    "from nltk.stem import WordNetLemmatizer\n",
    "\n",
    "eng = stopwords.words('English')"
   ]
  },
  {
   "cell_type": "code",
   "execution_count": 305,
   "metadata": {},
   "outputs": [
    {
     "name": "stdout",
     "output_type": "stream",
     "text": [
      " #bear or #Bulls ??? #bitcoinATM #miners #btc #eth #ltc #BTG #Ethereum #cryptocurrency #btc #bitcointrade #mining #blockchain #Crypto #ltc #BitcoinGold #BitcoinCash #nanobank #ToTheMoon #trade #cryptoexchange #hold #HODL #altcoin #dash #bitcoinprice #bitofhumor #segwit2x \n"
     ]
    }
   ],
   "source": [
    "test_post = sent['Post'][0]# the review used for initial analysis\n",
    "print(test_post)"
   ]
  },
  {
   "cell_type": "code",
   "execution_count": 281,
   "metadata": {},
   "outputs": [
    {
     "name": "stdout",
     "output_type": "stream",
     "text": [
      "4\n"
     ]
    },
    {
     "data": {
      "text/plain": [
       "[' $BTC We hit short term resistance today and are now hitting the upper breakout trend line, the daily and hourly chart are signaling a potential short term reversal so i would look to sell short term breakouts unless we get a nice reversal back above $10800 .',\n",
       " 'If you like my analysis and it helps a tip would be appreciated.',\n",
       " 'Cheers!',\n",
       " '$ETC $ETH $LTC']"
      ]
     },
     "execution_count": 281,
     "metadata": {},
     "output_type": "execute_result"
    }
   ],
   "source": [
    "print(len(sent_tokenize(test_post)))\n",
    "sent_tokenize(test_post) # doesn't really split all sentences"
   ]
  },
  {
   "cell_type": "code",
   "execution_count": 282,
   "metadata": {},
   "outputs": [
    {
     "name": "stdout",
     "output_type": "stream",
     "text": [
      "4\n",
      "\n",
      " $BTC We hit short term resistance today and are now hitting the upper breakout trend line, the daily and hourly chart are signaling a potential short term reversal so i would look to sell short term breakouts unless we get a nice reversal back above $10800 .\n",
      "\n",
      "If you like my analysis and it helps a tip would be appreciated.\n",
      "\n",
      "Cheers!\n",
      "\n",
      "$ETC $ETH $LTC\n",
      "\n"
     ]
    }
   ],
   "source": [
    "# Check if it does a better job if we add space after every period\n",
    "test_post = test_post.replace('.','. ')\n",
    "\n",
    "print(len(sent_tokenize(test_post)), end='\\n\\n') # number of sentences\n",
    "\n",
    "# print all sentences on a new line\n",
    "for sent in sent_tokenize(test_post):\n",
    "    print(sent, end='\\n\\n')"
   ]
  },
  {
   "cell_type": "code",
   "execution_count": 306,
   "metadata": {},
   "outputs": [
    {
     "name": "stdout",
     "output_type": "stream",
     "text": [
      "  bear or  Bulls      bitcoinATM  miners  btc  eth  ltc  BTG  Ethereum  cryptocurrency  btc  bitcointrade  mining  blockchain  Crypto  ltc  BitcoinGold  BitcoinCash  nanobank  ToTheMoon  trade  cryptoexchange  hold  HODL  altcoin  dash  bitcoinprice  bitofhumor  segwit x \n"
     ]
    }
   ],
   "source": [
    "test_post = re.sub('[^a-zA-Z]',' ',test_post)\n",
    "print(test_post) # remove special character"
   ]
  },
  {
   "cell_type": "code",
   "execution_count": 284,
   "metadata": {},
   "outputs": [],
   "source": [
    "test_post = test_post.lower()"
   ]
  },
  {
   "cell_type": "code",
   "execution_count": 285,
   "metadata": {},
   "outputs": [
    {
     "data": {
      "text/plain": [
       "'  btc we hit short term resistance today and are now hitting the upper breakout trend line  the daily and hourly chart are signaling a potential short term reversal so i would look to sell short term breakouts unless we get a nice reversal back above           if you like my analysis and it helps a tip would be appreciated   cheers   etc  eth  ltc '"
      ]
     },
     "execution_count": 285,
     "metadata": {},
     "output_type": "execute_result"
    }
   ],
   "source": [
    "test_post"
   ]
  },
  {
   "cell_type": "code",
   "execution_count": 287,
   "metadata": {},
   "outputs": [
    {
     "name": "stdout",
     "output_type": "stream",
     "text": [
      "['btc', 'we', 'hit', 'short', 'term', 'resistance', 'today', 'and', 'are', 'now']\n",
      "62\n"
     ]
    }
   ],
   "source": [
    "test_post_words = test_post.split()\n",
    "print(test_post_words[:10]) # tokenize and lower case\n",
    "print(len(test_post_words))"
   ]
  },
  {
   "cell_type": "code",
   "execution_count": 288,
   "metadata": {},
   "outputs": [
    {
     "name": "stdout",
     "output_type": "stream",
     "text": [
      "btc we hit short term resist today and are now hit the upper breakout trend line the daili and hourli chart are signal a potenti short term revers so i would look to sell short term breakout unless we get a nice revers back abov if you like my analysi and it help a tip would be appreci cheer etc eth ltc\n"
     ]
    }
   ],
   "source": [
    "ps = PorterStemmer() #initialize Porter Stemmer object\n",
    "\n",
    "ps_stems = []\n",
    "for w in test_post_words:\n",
    "    ps_stems.append(ps.stem(w))\n",
    "\n",
    "print(' '.join(ps_stems)) # add all the stemmed words to one string"
   ]
  },
  {
   "cell_type": "code",
   "execution_count": 293,
   "metadata": {},
   "outputs": [
    {
     "data": {
      "text/plain": [
       "[('btc', 'NN'),\n",
       " ('we', 'PRP'),\n",
       " ('hit', 'VBD'),\n",
       " ('short', 'JJ'),\n",
       " ('term', 'NN'),\n",
       " ('resistance', 'NN'),\n",
       " ('today', 'NN'),\n",
       " ('and', 'CC'),\n",
       " ('are', 'VBP'),\n",
       " ('now', 'RB')]"
      ]
     },
     "execution_count": 293,
     "metadata": {},
     "output_type": "execute_result"
    }
   ],
   "source": [
    "#parts of speech tagging\n",
    "\n",
    "token_tag = pos_tag(test_post_words)\n",
    "token_tag[:10]"
   ]
  },
  {
   "cell_type": "code",
   "execution_count": 294,
   "metadata": {
    "collapsed": true
   },
   "outputs": [],
   "source": [
    "def get_wordnet_pos(treebank_tag):\n",
    "\n",
    "    if treebank_tag.startswith('J'):\n",
    "        return wordnet.ADJ\n",
    "    elif treebank_tag.startswith('V'):\n",
    "        return wordnet.VERB\n",
    "    elif treebank_tag.startswith('N'):\n",
    "        return wordnet.NOUN\n",
    "    elif treebank_tag.startswith('R'):\n",
    "        return wordnet.ADV\n",
    "    else:\n",
    "        return 'n'"
   ]
  },
  {
   "cell_type": "code",
   "execution_count": 295,
   "metadata": {},
   "outputs": [
    {
     "name": "stdout",
     "output_type": "stream",
     "text": [
      "btc we hit short term resistance today and be now hit the upper breakout trend line the daily and hourly chart be signal a potential short term reversal so i would look to sell short term breakout unless we get a nice reversal back above if you like my analysis and it help a tip would be appreciate cheer etc eth ltc\n"
     ]
    }
   ],
   "source": [
    "#from nltk.stem import WordNetLemmatizer\n",
    "\n",
    "\n",
    "wnl = WordNetLemmatizer()\n",
    "\n",
    "wnl_stems = []\n",
    "for pair in token_tag:\n",
    "    res = wnl.lemmatize(pair[0],pos=get_wordnet_pos(pair[1]))\n",
    "    wnl_stems.append(res)\n",
    "\n",
    "print(' '.join(wnl_stems))"
   ]
  },
  {
   "cell_type": "code",
   "execution_count": 313,
   "metadata": {
    "collapsed": true
   },
   "outputs": [],
   "source": [
    "def post_cleaner(post):\n",
    "    \n",
    "    #1. Use regex to find emoticons\n",
    "    emoticons = re.findall('(?::|;|=)(?:-)?(?:\\)|\\(|D|P)', post)\n",
    "    \n",
    "    #2. Remove punctuation\n",
    "    post = re.sub(\"[^a-zA-Z]\", \" \",post)\n",
    "    \n",
    "    #3. Tokenize into words (all lower case)\n",
    "    post = post.lower().split()\n",
    "    \n",
    "    #4. Remove stopwords\n",
    "    eng_stopwords = set(stopwords.words(\"english\"))\n",
    "    post = [w for w in post if not w in eng_stopwords]\n",
    "    \n",
    "    #5. Join the review to one sentence\n",
    "    post = ' '.join(post+emoticons)\n",
    "    # add emoticons to the end\n",
    "\n",
    "    return(post)"
   ]
  },
  {
   "cell_type": "code",
   "execution_count": 326,
   "metadata": {},
   "outputs": [
    {
     "name": "stdout",
     "output_type": "stream",
     "text": [
      "Done with 500 posts\n",
      "Done with 1000 posts\n",
      "Done with 1500 posts\n",
      "Done with 2000 posts\n",
      "CPU times: user 448 ms, sys: 58.4 ms, total: 506 ms\n",
      "Wall time: 506 ms\n"
     ]
    }
   ],
   "source": [
    "%%time\n",
    "\n",
    "num_posts = len(sent['Post'])\n",
    "\n",
    "post_clean_original = []\n",
    "\n",
    "for i in range(0,num_posts):\n",
    "    if( (i+1)%500 == 0 ):\n",
    "        # print progress\n",
    "        print(\"Done with %d posts\" %(i+1)) \n",
    "    post_clean_original.append(post_cleaner(record['Post'][i]))"
   ]
  },
  {
   "cell_type": "code",
   "execution_count": 331,
   "metadata": {},
   "outputs": [
    {
     "name": "stdout",
     "output_type": "stream",
     "text": [
      "Done with 500 posts\n",
      "Done with 1000 posts\n",
      "Done with 1500 posts\n",
      "Done with 2000 posts\n",
      "CPU times: user 4.04 s, sys: 169 ms, total: 4.21 s\n",
      "Wall time: 4.22 s\n"
     ]
    }
   ],
   "source": [
    "%%time\n",
    "# Lemmatizer\n",
    "\n",
    "post_clean_wnl = []\n",
    "\n",
    "wnl = WordNetLemmatizer()\n",
    "\n",
    "for i in range(0,num_posts):\n",
    "    if( (i+1)%500 == 0 ):\n",
    "        # print progress\n",
    "        print(\"Done with %d posts\" %(i+1)) \n",
    "    \n",
    "    wnl_stems = []\n",
    "    token_tag = pos_tag(post_clean_original[i].split())\n",
    "    for pair in token_tag:\n",
    "        res = wnl.lemmatize(pair[0],pos=get_wordnet_pos(pair[1]))\n",
    "        wnl_stems.append(res)\n",
    "\n",
    "    post_clean_wnl.append(' '.join(wnl_stems))"
   ]
  },
  {
   "cell_type": "code",
   "execution_count": 333,
   "metadata": {
    "collapsed": true
   },
   "outputs": [],
   "source": [
    "from sklearn.ensemble import RandomForestClassifier\n",
    "from sklearn.feature_extraction.text import CountVectorizer\n",
    "from sklearn import metrics\n",
    "from sklearn.model_selection import train_test_split\n",
    "\n",
    "# put everything together in a function\n",
    "\n",
    "def predict_sentiment(cleaned_posts, y=sent[\"Sentiment\"]):\n",
    "\n",
    "    print(\"Creating the bag of words model..\\n\")\n",
    "    # CountVectorizer\" is scikit-learn's bag of words tool, here we show more keywords \n",
    "    vectorizer = CountVectorizer(analyzer = \"word\",   \\\n",
    "                                 tokenizer = None,    \\\n",
    "                                 preprocessor = None, \\\n",
    "                                 stop_words = None,   \\\n",
    "                                 max_features = 2000) \n",
    "    \n",
    "    X_train, X_test, y_train, y_test = train_test_split(\\\n",
    "    cleaned_posts, y, random_state=0, test_size=0.2)\n",
    "\n",
    "    # Then we use fit_transform() to fit the model / learn the vocabulary,\n",
    "    # then transform the data into feature vectors.\n",
    "    # The input should be a list of strings. .toarraty() converts to a numpy array\n",
    "    \n",
    "    train_bag = vectorizer.fit_transform(X_train).toarray()\n",
    "    test_bag = vectorizer.transform(X_test).toarray()\n",
    "\n",
    "    # You can extract the vocabulary created by CountVectorizer\n",
    "    # by running print(vectorizer.get_feature_names())\n",
    "\n",
    "\n",
    "    print(\"Training the random forest classifier..\\n\")\n",
    "    # Initialize a Random Forest classifier with 75 trees\n",
    "    forest = RandomForestClassifier(n_estimators = 50) \n",
    "\n",
    "    # Fit the forest to the training set, using the bag of words as \n",
    "    # features and the sentiment labels as the target variable\n",
    "    forest = forest.fit(train_bag, y_train)\n",
    "\n",
    "\n",
    "    train_predictions = forest.predict(train_bag)\n",
    "    test_predictions = forest.predict(test_bag)\n",
    "    \n",
    "    train_acc = metrics.accuracy_score(y_train, train_predictions)\n",
    "    valid_acc = metrics.accuracy_score(y_test, test_predictions)\n",
    "    print(\"The training accuracy is: \", train_acc, \"\\n\", \"The validation accuracy is: \", valid_acc)\n",
    "    print()\n",
    "    print()\n",
    "    #Extract feature importnace\n",
    "    print('TOP TEN IMPORTANT FEATURES:')\n",
    "    importances = forest.feature_importances_\n",
    "    indices = np.argsort(importances)[::-1]\n",
    "    top_10 = indices[:10]\n",
    "    print([vectorizer.get_feature_names()[ind] for ind in top_10])"
   ]
  },
  {
   "cell_type": "code",
   "execution_count": 335,
   "metadata": {},
   "outputs": [
    {
     "name": "stdout",
     "output_type": "stream",
     "text": [
      "Creating the bag of words model..\n",
      "\n",
      "Training the random forest classifier..\n",
      "\n",
      "The training accuracy is:  0.983718487395 \n",
      " The validation accuracy is:  0.607966457023\n",
      "\n",
      "\n",
      "TOP TEN IMPORTANT FEATURES:\n",
      "['bitcoin', 'btc', 'cryptocurrency', 'investfeed', 'support', 'eth', 'crypto', 'ift', 'http', 'cryptocurrencies']\n"
     ]
    }
   ],
   "source": [
    "predict_sentiment(post_clean_original) #Accuracy measure with original sentences"
   ]
  },
  {
   "cell_type": "code",
   "execution_count": 336,
   "metadata": {},
   "outputs": [
    {
     "name": "stdout",
     "output_type": "stream",
     "text": [
      "Creating the bag of words model..\n",
      "\n",
      "Training the random forest classifier..\n",
      "\n",
      "The training accuracy is:  0.984243697479 \n",
      " The validation accuracy is:  0.574423480084\n",
      "\n",
      "\n",
      "TOP TEN IMPORTANT FEATURES:\n",
      "['bitcoin', 'cryptocurrency', 'btc', 'investfeed', 'support', 'eth', 'cryptocurrencies', 'crypto', 'http', 'ift']\n"
     ]
    }
   ],
   "source": [
    "predict_sentiment(post_clean_wnl) #Lemmatized sentences lead to lower accuracy"
   ]
  },
  {
   "cell_type": "code",
   "execution_count": null,
   "metadata": {
    "collapsed": true
   },
   "outputs": [],
   "source": []
  }
 ],
 "metadata": {
  "kernelspec": {
   "display_name": "Python 3",
   "language": "python",
   "name": "python3"
  },
  "language_info": {
   "codemirror_mode": {
    "name": "ipython",
    "version": 3
   },
   "file_extension": ".py",
   "mimetype": "text/x-python",
   "name": "python",
   "nbconvert_exporter": "python",
   "pygments_lexer": "ipython3",
   "version": "3.6.3"
  }
 },
 "nbformat": 4,
 "nbformat_minor": 2
}
