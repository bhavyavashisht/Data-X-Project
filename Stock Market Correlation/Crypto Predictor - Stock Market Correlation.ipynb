{
 "cells": [
  {
   "cell_type": "markdown",
   "metadata": {},
   "source": [
    "# Bitcoin Prediction Model"
   ]
  },
  {
   "cell_type": "code",
   "execution_count": null,
   "metadata": {},
   "outputs": [],
   "source": [
    "#importing packages \n",
    "import warnings\n",
    "warnings.filterwarnings('ignore') # Filter out warnings\n",
    "\n",
    "# data analysis and wrangling\n",
    "import pandas as pd\n",
    "import numpy as np\n",
    "import random as rnd\n",
    "\n",
    "# visualization\n",
    "import seaborn as sns\n",
    "import matplotlib.pyplot as plt\n",
    "%matplotlib inline\n",
    "\n",
    "# machine learning\n",
    "from sklearn.linear_model import LogisticRegression\n",
    "from sklearn.svm import SVC, LinearSVC\n",
    "from sklearn.ensemble import RandomForestClassifier\n",
    "from sklearn.neighbors import KNeighborsClassifier\n",
    "from sklearn.naive_bayes import GaussianNB # Gaussian Naive Bays\n",
    "from sklearn.linear_model import Perceptron\n",
    "from sklearn.linear_model import SGDClassifier #stochastic gradient descent\n",
    "from sklearn.tree import DecisionTreeClassifier"
   ]
  },
  {
   "cell_type": "code",
   "execution_count": null,
   "metadata": {
    "collapsed": true
   },
   "outputs": [],
   "source": [
    "#importing the data\n",
    "bitcoin = pd.read_csv('bitcoin_price.csv',parse_dates=[0])\n",
    "nasdaq = pd.read_csv('NASDAQ_1971-2017.csv',parse_dates=[0])\n",
    "snp = pd.read_csv('S_P500_1950-2017.csv',parse_dates=[0])\n",
    "dj = pd.read_csv('DowJones_1985-2017.csv',parse_dates=[0])"
   ]
  },
  {
   "cell_type": "code",
   "execution_count": 3,
   "metadata": {
    "collapsed": true
   },
   "outputs": [],
   "source": [
    "nasdaq = nasdaq.reindex(index=nasdaq.index[::-1])\n",
    "nasdaq = nasdaq.drop(nasdaq.head(5).index)\n",
    "nasdaq = nasdaq.reset_index(drop = True)\n",
    "\n",
    "snp = snp.reindex(index=snp.index[::-1])\n",
    "snp = snp.drop(snp.head(5).index)\n",
    "snp = snp.reset_index(drop = True)\n",
    "\n",
    "dj = dj.reindex(index=dj.index[::-1])\n",
    "dj = dj.drop(dj.head(5).index)\n",
    "dj = dj.reset_index(drop = True)"
   ]
  },
  {
   "cell_type": "code",
   "execution_count": 4,
   "metadata": {},
   "outputs": [
    {
     "data": {
      "text/html": [
       "<div>\n",
       "<style>\n",
       "    .dataframe thead tr:only-child th {\n",
       "        text-align: right;\n",
       "    }\n",
       "\n",
       "    .dataframe thead th {\n",
       "        text-align: left;\n",
       "    }\n",
       "\n",
       "    .dataframe tbody tr th {\n",
       "        vertical-align: top;\n",
       "    }\n",
       "</style>\n",
       "<table border=\"1\" class=\"dataframe\">\n",
       "  <thead>\n",
       "    <tr style=\"text-align: right;\">\n",
       "      <th></th>\n",
       "      <th>Date</th>\n",
       "      <th>Open</th>\n",
       "      <th>High</th>\n",
       "      <th>Low</th>\n",
       "      <th>Close</th>\n",
       "      <th>Adj Close</th>\n",
       "      <th>Volume</th>\n",
       "    </tr>\n",
       "  </thead>\n",
       "  <tbody>\n",
       "    <tr>\n",
       "      <th>1117</th>\n",
       "      <td>2013-04-29</td>\n",
       "      <td>3290.310059</td>\n",
       "      <td>3315.330078</td>\n",
       "      <td>3289.419922</td>\n",
       "      <td>3307.02002</td>\n",
       "      <td>3307.02002</td>\n",
       "      <td>1594110000</td>\n",
       "    </tr>\n",
       "  </tbody>\n",
       "</table>\n",
       "</div>"
      ],
      "text/plain": [
       "           Date         Open         High          Low       Close  \\\n",
       "1117 2013-04-29  3290.310059  3315.330078  3289.419922  3307.02002   \n",
       "\n",
       "       Adj Close      Volume  \n",
       "1117  3307.02002  1594110000  "
      ]
     },
     "execution_count": 4,
     "metadata": {},
     "output_type": "execute_result"
    }
   ],
   "source": [
    "value = ['2013-04-29']\n",
    "nasdaq[nasdaq.Date.isin(value)]"
   ]
  },
  {
   "cell_type": "code",
   "execution_count": 5,
   "metadata": {
    "collapsed": true
   },
   "outputs": [],
   "source": [
    "nasdaq = nasdaq.loc[nasdaq.index<1118]\n",
    "snp = snp.loc[snp.index<1118]\n",
    "dj = dj.loc[dj.index<1118]"
   ]
  },
  {
   "cell_type": "code",
   "execution_count": 6,
   "metadata": {},
   "outputs": [
    {
     "name": "stdout",
     "output_type": "stream",
     "text": [
      "(1620, 7)\n",
      "(1118, 7)\n",
      "(1118, 7)\n",
      "(1118, 7)\n"
     ]
    }
   ],
   "source": [
    "print(bitcoin.shape)\n",
    "print(nasdaq.shape)\n",
    "print(snp.shape)\n",
    "print(dj.shape)"
   ]
  },
  {
   "cell_type": "code",
   "execution_count": 7,
   "metadata": {
    "collapsed": true
   },
   "outputs": [],
   "source": [
    "lookup = bitcoin"
   ]
  },
  {
   "cell_type": "code",
   "execution_count": 8,
   "metadata": {
    "collapsed": true
   },
   "outputs": [],
   "source": [
    "def lookup_df(date):\n",
    "    match = lookup['Date'] == date\n",
    "    df = lookup[match]\n",
    "    return df"
   ]
  },
  {
   "cell_type": "code",
   "execution_count": 9,
   "metadata": {},
   "outputs": [
    {
     "data": {
      "text/html": [
       "<div>\n",
       "<style>\n",
       "    .dataframe thead tr:only-child th {\n",
       "        text-align: right;\n",
       "    }\n",
       "\n",
       "    .dataframe thead th {\n",
       "        text-align: left;\n",
       "    }\n",
       "\n",
       "    .dataframe tbody tr th {\n",
       "        vertical-align: top;\n",
       "    }\n",
       "</style>\n",
       "<table border=\"1\" class=\"dataframe\">\n",
       "  <thead>\n",
       "    <tr style=\"text-align: right;\">\n",
       "      <th></th>\n",
       "      <th>Date</th>\n",
       "      <th>Open</th>\n",
       "      <th>High</th>\n",
       "      <th>Low</th>\n",
       "      <th>Close</th>\n",
       "      <th>Volume</th>\n",
       "      <th>Market Cap</th>\n",
       "    </tr>\n",
       "  </thead>\n",
       "  <tbody>\n",
       "    <tr>\n",
       "      <th>0</th>\n",
       "      <td>2017-10-03</td>\n",
       "      <td>4408.46</td>\n",
       "      <td>4432.47</td>\n",
       "      <td>4258.89</td>\n",
       "      <td>4317.48</td>\n",
       "      <td>1,288,020,000</td>\n",
       "      <td>73,181,300,000</td>\n",
       "    </tr>\n",
       "    <tr>\n",
       "      <th>1</th>\n",
       "      <td>2017-10-02</td>\n",
       "      <td>4395.81</td>\n",
       "      <td>4470.23</td>\n",
       "      <td>4377.46</td>\n",
       "      <td>4409.32</td>\n",
       "      <td>1,431,730,000</td>\n",
       "      <td>72,963,200,000</td>\n",
       "    </tr>\n",
       "    <tr>\n",
       "      <th>4</th>\n",
       "      <td>2017-09-29</td>\n",
       "      <td>4171.62</td>\n",
       "      <td>4214.63</td>\n",
       "      <td>4039.29</td>\n",
       "      <td>4163.07</td>\n",
       "      <td>1,367,050,000</td>\n",
       "      <td>69,219,200,000</td>\n",
       "    </tr>\n",
       "    <tr>\n",
       "      <th>5</th>\n",
       "      <td>2017-09-28</td>\n",
       "      <td>4197.13</td>\n",
       "      <td>4279.31</td>\n",
       "      <td>4109.70</td>\n",
       "      <td>4174.73</td>\n",
       "      <td>1,712,320,000</td>\n",
       "      <td>69,633,200,000</td>\n",
       "    </tr>\n",
       "    <tr>\n",
       "      <th>6</th>\n",
       "      <td>2017-09-27</td>\n",
       "      <td>3892.94</td>\n",
       "      <td>4210.05</td>\n",
       "      <td>3884.82</td>\n",
       "      <td>4200.67</td>\n",
       "      <td>1,686,880,000</td>\n",
       "      <td>64,579,200,000</td>\n",
       "    </tr>\n",
       "  </tbody>\n",
       "</table>\n",
       "</div>"
      ],
      "text/plain": [
       "        Date     Open     High      Low    Close         Volume  \\\n",
       "0 2017-10-03  4408.46  4432.47  4258.89  4317.48  1,288,020,000   \n",
       "1 2017-10-02  4395.81  4470.23  4377.46  4409.32  1,431,730,000   \n",
       "4 2017-09-29  4171.62  4214.63  4039.29  4163.07  1,367,050,000   \n",
       "5 2017-09-28  4197.13  4279.31  4109.70  4174.73  1,712,320,000   \n",
       "6 2017-09-27  3892.94  4210.05  3884.82  4200.67  1,686,880,000   \n",
       "\n",
       "       Market Cap  \n",
       "0  73,181,300,000  \n",
       "1  72,963,200,000  \n",
       "4  69,219,200,000  \n",
       "5  69,633,200,000  \n",
       "6  64,579,200,000  "
      ]
     },
     "execution_count": 9,
     "metadata": {},
     "output_type": "execute_result"
    }
   ],
   "source": [
    "df = bitcoin.loc[:0]\n",
    "for i in range(0,nasdaq.shape[0]):\n",
    "    df = df.append(lookup_df(nasdaq['Date'][i]))\n",
    "df = df.iloc[1:]\n",
    "df.head()"
   ]
  },
  {
   "cell_type": "code",
   "execution_count": 10,
   "metadata": {},
   "outputs": [
    {
     "name": "stdout",
     "output_type": "stream",
     "text": [
      "(1118, 7)\n",
      "(1118, 7)\n",
      "(1118, 7)\n",
      "(1118, 7)\n"
     ]
    }
   ],
   "source": [
    "print(df.shape)\n",
    "print(nasdaq.shape)\n",
    "print(snp.shape)\n",
    "print(dj.shape)"
   ]
  },
  {
   "cell_type": "code",
   "execution_count": 11,
   "metadata": {
    "collapsed": true
   },
   "outputs": [],
   "source": [
    "df = df.reset_index(drop = True)"
   ]
  },
  {
   "cell_type": "code",
   "execution_count": 12,
   "metadata": {},
   "outputs": [
    {
     "data": {
      "text/html": [
       "<div>\n",
       "<style>\n",
       "    .dataframe thead tr:only-child th {\n",
       "        text-align: right;\n",
       "    }\n",
       "\n",
       "    .dataframe thead th {\n",
       "        text-align: left;\n",
       "    }\n",
       "\n",
       "    .dataframe tbody tr th {\n",
       "        vertical-align: top;\n",
       "    }\n",
       "</style>\n",
       "<table border=\"1\" class=\"dataframe\">\n",
       "  <thead>\n",
       "    <tr style=\"text-align: right;\">\n",
       "      <th></th>\n",
       "      <th>Bitcoin</th>\n",
       "      <th>Nasdaq</th>\n",
       "      <th>S&amp;P 500</th>\n",
       "      <th>Dow Jones</th>\n",
       "    </tr>\n",
       "  </thead>\n",
       "  <tbody>\n",
       "    <tr>\n",
       "      <th>Bitcoin</th>\n",
       "      <td>1.000000</td>\n",
       "      <td>0.707971</td>\n",
       "      <td>0.688724</td>\n",
       "      <td>0.771410</td>\n",
       "    </tr>\n",
       "    <tr>\n",
       "      <th>Nasdaq</th>\n",
       "      <td>0.707971</td>\n",
       "      <td>1.000000</td>\n",
       "      <td>0.989797</td>\n",
       "      <td>0.968166</td>\n",
       "    </tr>\n",
       "    <tr>\n",
       "      <th>S&amp;P 500</th>\n",
       "      <td>0.688724</td>\n",
       "      <td>0.989797</td>\n",
       "      <td>1.000000</td>\n",
       "      <td>0.978780</td>\n",
       "    </tr>\n",
       "    <tr>\n",
       "      <th>Dow Jones</th>\n",
       "      <td>0.771410</td>\n",
       "      <td>0.968166</td>\n",
       "      <td>0.978780</td>\n",
       "      <td>1.000000</td>\n",
       "    </tr>\n",
       "  </tbody>\n",
       "</table>\n",
       "</div>"
      ],
      "text/plain": [
       "            Bitcoin    Nasdaq   S&P 500  Dow Jones\n",
       "Bitcoin    1.000000  0.707971  0.688724   0.771410\n",
       "Nasdaq     0.707971  1.000000  0.989797   0.968166\n",
       "S&P 500    0.688724  0.989797  1.000000   0.978780\n",
       "Dow Jones  0.771410  0.968166  0.978780   1.000000"
      ]
     },
     "execution_count": 12,
     "metadata": {},
     "output_type": "execute_result"
    }
   ],
   "source": [
    "comp = pd.DataFrame(df['Close'])\n",
    "comp = comp.rename(columns={'Close': 'Bitcoin'})\n",
    "comp['Nasdaq'] = nasdaq['Close']\n",
    "comp['S&P 500'] = snp['Close']\n",
    "comp['Dow Jones'] = dj['Close']\n",
    "comp.corr()"
   ]
  },
  {
   "cell_type": "code",
   "execution_count": null,
   "metadata": {
    "collapsed": true
   },
   "outputs": [],
   "source": [
    "colormap = plt.cm.viridis\n",
    "plt.figure(figsize=(10,10))\n",
    "plt.title('Pearson Correlation of Features', y=1.05, size=15)\n",
    "sns.heatmap(train_df.astype(float).corr().round(2)\\\n",
    "            ,linewidths=0.1,vmax=1.0, square=True, cmap=colormap, linecolor='white', annot=True)"
   ]
  },
  {
   "cell_type": "code",
   "execution_count": 13,
   "metadata": {},
   "outputs": [
    {
     "data": {
      "text/plain": [
       "[<matplotlib.lines.Line2D at 0x10acedfd0>]"
      ]
     },
     "execution_count": 13,
     "metadata": {},
     "output_type": "execute_result"
    },
    {
     "data": {
      "image/png": "[encoded data removed]",
      "text/plain": [
       "<matplotlib.figure.Figure at 0x111072748>"
      ]
     },
     "metadata": {},
     "output_type": "display_data"
    }
   ],
   "source": [
    "plt.plot(df['Date'],df['Close'])\n",
    "plt.plot(dj['Date'],dj['Close'],linestyle = '--')"
   ]
  },
  {
   "cell_type": "code",
   "execution_count": 14,
   "metadata": {
    "collapsed": true
   },
   "outputs": [],
   "source": [
    "# import matplotlib.dates as mdates\n",
    "# month_day_fmt = mdates.DateFormatter('%b %d') # \"Locale's abbreviated month name. + day of the month\"\n",
    "# ax.xaxis.set_major_formatter(month_day_fmt)"
   ]
  },
  {
   "cell_type": "code",
   "execution_count": 15,
   "metadata": {
    "collapsed": true
   },
   "outputs": [],
   "source": [
    "from sklearn import preprocessing\n",
    "df[\"SCP\"] = preprocessing.scale(df[\"Close\"])\n",
    "dj[\"SCP\"] = preprocessing.scale(dj[\"Close\"])#scaled close price"
   ]
  },
  {
   "cell_type": "code",
   "execution_count": 39,
   "metadata": {
    "collapsed": true
   },
   "outputs": [],
   "source": [
    "x = df['Date']\n",
    "y = df['SCP']\n",
    "y1= dj['SCP']"
   ]
  },
  {
   "cell_type": "code",
   "execution_count": 40,
   "metadata": {},
   "outputs": [
    {
     "data": {
      "text/plain": [
       "<matplotlib.legend.Legend at 0x1149c5e80>"
      ]
     },
     "execution_count": 40,
     "metadata": {},
     "output_type": "execute_result"
    },
    {
     "data": {
      "image/png": "[encoded data removed]",
      "text/plain": [
       "<matplotlib.figure.Figure at 0x1148088d0>"
      ]
     },
     "metadata": {},
     "output_type": "display_data"
    }
   ],
   "source": [
    "fig, ax = plt.subplots()\n",
    "\n",
    "ax.plot(x,y,color='green', linestyle=':', label='Bitcoin',linewidth = 2.5)\n",
    "ax.plot(x,y1,color='orange', linestyle='--', label = 'Dow Jones')\n",
    "ax.legend(loc=4)"
   ]
  },
  {
   "cell_type": "code",
   "execution_count": null,
   "metadata": {
    "collapsed": true
   },
   "outputs": [],
   "source": []
  }
 ],
 "metadata": {
  "kernelspec": {
   "display_name": "Python 3",
   "language": "python",
   "name": "python3"
  },
  "language_info": {
   "codemirror_mode": {
    "name": "ipython",
    "version": 3
   },
   "file_extension": ".py",
   "mimetype": "text/x-python",
   "name": "python",
   "nbconvert_exporter": "python",
   "pygments_lexer": "ipython3",
   "version": "3.6.3"
  }
 },
 "nbformat": 4,
 "nbformat_minor": 2
}
