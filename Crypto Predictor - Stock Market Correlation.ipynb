{
 "cells": [
  {
   "cell_type": "markdown",
   "metadata": {},
   "source": []
  },
  {
   "cell_type": "markdown",
   "metadata": {},
   "source": [
    "# Bitcoin Prediction Model"
   ]
  },
  {
   "cell_type": "code",
   "execution_count": 12,
   "metadata": {},
   "outputs": [
    {
     "name": "stdout",
     "output_type": "stream",
     "text": [
      "Requirement already satisfied: python-dateutil==2.4.2 in c:\\users\\bhavya\\anaconda3\\lib\\site-packages (from -r requirements.txt (line 1))\n",
      "Requirement already satisfied: requests==2.9.1 in c:\\users\\bhavya\\anaconda3\\lib\\site-packages (from -r requirements.txt (line 2))\n",
      "Requirement already satisfied: six>=1.5 in c:\\users\\bhavya\\anaconda3\\lib\\site-packages (from python-dateutil==2.4.2->-r requirements.txt (line 1))\n"
     ]
    }
   ],
   "source": [
    "#importing packages \n",
    "import warnings\n",
    "warnings.filterwarnings('ignore') # Filter out warnings\n",
    "\n",
    "# data analysis and wrangling\n",
    "import pandas as pd\n",
    "import numpy as np\n",
    "import random as rnd\n",
    "\n",
    "# visualization\n",
    "import seaborn as sns\n",
    "import matplotlib.pyplot as plt\n",
    "%matplotlib inline\n",
    "\n",
    "# machine learning\n",
    "from sklearn.linear_model import LogisticRegression\n",
    "from sklearn.svm import SVC, LinearSVC\n",
    "from sklearn.ensemble import RandomForestClassifier\n",
    "from sklearn.neighbors import KNeighborsClassifier\n",
    "from sklearn.naive_bayes import GaussianNB # Gaussian Naive Bays\n",
    "from sklearn.linear_model import Perceptron\n",
    "from sklearn.linear_model import SGDClassifier #stochastic gradient descent\n",
    "from sklearn.tree import DecisionTreeClassifier\n",
    "\n",
    "import xgboost as xgb\n",
    "import datetime\n",
    "import time\n",
    "from numpy import array\n",
    "\n",
    "#!pip install coinbase\n",
    "#!pip install -r requirements.txt"
   ]
  },
  {
   "cell_type": "code",
   "execution_count": 16,
   "metadata": {},
   "outputs": [
    {
     "name": "stdout",
     "output_type": "stream",
     "text": [
      "Collecting coinbase\n",
      "  Downloading coinbase-2.0.6-py2.py3-none-any.whl\n",
      "Requirement already satisfied: six>=1.9 in c:\\users\\bhavya\\anaconda3\\lib\\site-packages (from coinbase)\n",
      "Requirement already satisfied: requests>=2.5 in c:\\users\\bhavya\\anaconda3\\lib\\site-packages (from coinbase)\n",
      "Requirement already satisfied: pycrypto>=2.6.1 in c:\\users\\bhavya\\anaconda3\\lib\\site-packages (from coinbase)\n",
      "Installing collected packages: coinbase\n",
      "Successfully installed coinbase-2.0.6\n"
     ]
    }
   ],
   "source": [
    "#start_date = datetime.datetime.now() - datetime.timedelta(days=364);\n",
    "#start_date"
   ]
  },
  {
   "cell_type": "code",
   "execution_count": 19,
   "metadata": {},
   "outputs": [
    {
     "ename": "NameError",
     "evalue": "name 'coinbase' is not defined",
     "output_type": "error",
     "traceback": [
      "\u001b[1;31m---------------------------------------------------------------------------\u001b[0m",
      "\u001b[1;31mNameError\u001b[0m                                 Traceback (most recent call last)",
      "\u001b[1;32m<ipython-input-19-25c8ca290643>\u001b[0m in \u001b[0;36m<module>\u001b[1;34m()\u001b[0m\n\u001b[0;32m      1\u001b[0m \u001b[1;31m#btc = get_historical_data_as_list(start='2013-09-01', end=None);\u001b[0m\u001b[1;33m\u001b[0m\u001b[1;33m\u001b[0m\u001b[0m\n\u001b[1;32m----> 2\u001b[1;33m \u001b[0mprint\u001b[0m\u001b[1;33m(\u001b[0m\u001b[0mcoinbase\u001b[0m\u001b[1;33m.\u001b[0m\u001b[0mget_current_price\u001b[0m\u001b[1;33m(\u001b[0m\u001b[0mcurrency\u001b[0m\u001b[1;33m=\u001b[0m\u001b[1;34m'EUR'\u001b[0m\u001b[1;33m)\u001b[0m\u001b[1;33m)\u001b[0m\u001b[1;33m;\u001b[0m\u001b[1;33m\u001b[0m\u001b[0m\n\u001b[0m",
      "\u001b[1;31mNameError\u001b[0m: name 'coinbase' is not defined"
     ]
    }
   ],
   "source": [
    "#btc = get_historical_data_as_list(start='2013-09-01', end=None);\n",
    "print(coinbase.get_current_price(currency='EUR'));"
   ]
  },
  {
   "cell_type": "code",
   "execution_count": 21,
   "metadata": {
    "collapsed": true
   },
   "outputs": [],
   "source": [
    "#importing the data\n",
    "dfacn = pd.read_csv('https://www.google.com/finance/historical?output=csv&q=acn');\n",
    "dfatvi = pd.read_csv('https://www.google.com/finance/historical?output=csv&q=atvi');\n",
    "dfadbe = pd.read_csv('https://www.google.com/finance/historical?output=csv&q=adbe');\n",
    "dfamd = pd.read_csv('https://www.google.com/finance/historical?output=csv&q=amd');\n",
    "dfakam = pd.read_csv('https://www.google.com/finance/historical?output=csv&q=akam');\n",
    "dfads = pd.read_csv('https://www.google.com/finance/historical?output=csv&q=ads');\n",
    "dfgoogl = pd.read_csv('https://www.google.com/finance/historical?output=csv&q=googl');\n",
    "dfgoog = pd.read_csv('https://www.google.com/finance/historical?output=csv&q=goog');\n",
    "dfaph = pd.read_csv('https://www.google.com/finance/historical?output=csv&q=aph');\n",
    "dfadi = pd.read_csv('https://www.google.com/finance/historical?output=csv&q=adi');\n",
    "dfanss = pd.read_csv('https://www.google.com/finance/historical?output=csv&q=anss');\n",
    "dfaapl = pd.read_csv('https://www.google.com/finance/historical?output=csv&q=aapl');\n",
    "dfamat = pd.read_csv('https://www.google.com/finance/historical?output=csv&q=amat');\n",
    "dfadsk = pd.read_csv('https://www.google.com/finance/historical?output=csv&q=adsk');\n",
    "dfadp = pd.read_csv('https://www.google.com/finance/historical?output=csv&q=adp');\n",
    "dfavgo = pd.read_csv('https://www.google.com/finance/historical?output=csv&q=avgo');\n",
    "dfca = pd.read_csv('https://www.google.com/finance/historical?output=csv&q=ca');\n",
    "dfcdns = pd.read_csv('https://www.google.com/finance/historical?output=csv&q=cdns');\n",
    "dfcsco = pd.read_csv('https://www.google.com/finance/historical?output=csv&q=csco');\n",
    "dfctxs = pd.read_csv('https://www.google.com/finance/historical?output=csv&q=ctxs');\n",
    "dfctsh = pd.read_csv('https://www.google.com/finance/historical?output=csv&q=ctsh');\n",
    "dfglw = pd.read_csv('https://www.google.com/finance/historical?output=csv&q=glw');\n",
    "dfcsra = pd.read_csv('https://www.google.com/finance/historical?output=csv&q=csra');\n",
    "dfdxc = pd.read_csv('https://www.google.com/finance/historical?output=csv&q=dxc');\n",
    "dfebay = pd.read_csv('https://www.google.com/finance/historical?output=csv&q=ebay');\n",
    "dfea = pd.read_csv('https://www.google.com/finance/historical?output=csv&q=ea');\n",
    "dfffiv = pd.read_csv('https://www.google.com/finance/historical?output=csv&q=ffiv');\n",
    "dffb = pd.read_csv('https://www.google.com/finance/historical?output=csv&q=fb');\n",
    "dffis = pd.read_csv('https://www.google.com/finance/historical?output=csv&q=fis');\n",
    "dffisv = pd.read_csv('https://www.google.com/finance/historical?output=csv&q=fisv');\n",
    "dfflir = pd.read_csv('https://www.google.com/finance/historical?output=csv&q=flir');\n",
    "dfit = pd.read_csv('https://www.google.com/finance/historical?output=csv&q=it');\n",
    "dfgpn = pd.read_csv('https://www.google.com/finance/historical?output=csv&q=gpn');\n",
    "dfhrs = pd.read_csv('https://www.google.com/finance/historical?output=csv&q=hrs');\n",
    "dfhpe = pd.read_csv('https://www.google.com/finance/historical?output=csv&q=hpe');\n",
    "dfhpq = pd.read_csv('https://www.google.com/finance/historical?output=csv&q=hpq');\n",
    "dfintc = pd.read_csv('https://www.google.com/finance/historical?output=csv&q=intc');\n",
    "dfibm = pd.read_csv('https://www.google.com/finance/historical?output=csv&q=ibm');\n",
    "dfintu = pd.read_csv('https://www.google.com/finance/historical?output=csv&q=intu');\n",
    "dfjnpr = pd.read_csv('https://www.google.com/finance/historical?output=csv&q=jnpr');\n",
    "dfklac = pd.read_csv('https://www.google.com/finance/historical?output=csv&q=klac');\n",
    "dflrcx = pd.read_csv('https://www.google.com/finance/historical?output=csv&q=lrcx');\n",
    "dfma = pd.read_csv('https://www.google.com/finance/historical?output=csv&q=ma');\n",
    "dfmchp = pd.read_csv('https://www.google.com/finance/historical?output=csv&q=mchp');\n",
    "dfmu = pd.read_csv('https://www.google.com/finance/historical?output=csv&q=mu');\n",
    "dfmsft = pd.read_csv('https://www.google.com/finance/historical?output=csv&q=msft');\n",
    "dfmsi = pd.read_csv('https://www.google.com/finance/historical?output=csv&q=msi');\n",
    "dfntap = pd.read_csv('https://www.google.com/finance/historical?output=csv&q=ntap');\n",
    "dfnflx = pd.read_csv('https://www.google.com/finance/historical?output=csv&q=nflx');\n",
    "dfnvda = pd.read_csv('https://www.google.com/finance/historical?output=csv&q=nvda');\n",
    "dforcl = pd.read_csv('https://www.google.com/finance/historical?output=csv&q=orcl');\n",
    "dfpayx = pd.read_csv('https://www.google.com/finance/historical?output=csv&q=payx');\n",
    "dfpypl = pd.read_csv('https://www.google.com/finance/historical?output=csv&q=pypl');\n",
    "dfqrvo = pd.read_csv('https://www.google.com/finance/historical?output=csv&q=qrvo');\n",
    "dfqcom = pd.read_csv('https://www.google.com/finance/historical?output=csv&q=qcom');\n",
    "dfrht = pd.read_csv('https://www.google.com/finance/historical?output=csv&q=rht');\n",
    "dfcrm = pd.read_csv('https://www.google.com/finance/historical?output=csv&q=crm');\n",
    "dfstx = pd.read_csv('https://www.google.com/finance/historical?output=csv&q=stx');\n",
    "dfswks = pd.read_csv('https://www.google.com/finance/historical?output=csv&q=swks');\n",
    "dfsymc = pd.read_csv('https://www.google.com/finance/historical?output=csv&q=symc');\n",
    "dfsnps = pd.read_csv('https://www.google.com/finance/historical?output=csv&q=snps');\n",
    "dftel = pd.read_csv('https://www.google.com/finance/historical?output=csv&q=tel');\n",
    "dftxn = pd.read_csv('https://www.google.com/finance/historical?output=csv&q=txn');\n",
    "dftss = pd.read_csv('https://www.google.com/finance/historical?output=csv&q=tss');\n",
    "dfvrsn = pd.read_csv('https://www.google.com/finance/historical?output=csv&q=vrsn');\n",
    "dfv = pd.read_csv('https://www.google.com/finance/historical?output=csv&q=v');\n",
    "dfwdc = pd.read_csv('https://www.google.com/finance/historical?output=csv&q=wdc');\n",
    "dfwu = pd.read_csv('https://www.google.com/finance/historical?output=csv&q=wu');\n",
    "dfxrx = pd.read_csv('https://www.google.com/finance/historical?output=csv&q=xrx');\n",
    "dfxlnx = pd.read_csv('https://www.google.com/finance/historical?output=csv&q=xlnx');\n",
    "dfbtc = pd.read_csv('coindesk-bpi-USD-close_data-2016-11-22_2017-11-22.csv');"
   ]
  }
 ],
 "metadata": {
  "kernelspec": {
   "display_name": "Python 3",
   "language": "python",
   "name": "python3"
  },
  "language_info": {
   "codemirror_mode": {
    "name": "ipython",
    "version": 3
   },
   "file_extension": ".py",
   "mimetype": "text/x-python",
   "name": "python",
   "nbconvert_exporter": "python",
   "pygments_lexer": "ipython3",
   "version": "3.6.1"
  }
 },
 "nbformat": 4,
 "nbformat_minor": 2
}
