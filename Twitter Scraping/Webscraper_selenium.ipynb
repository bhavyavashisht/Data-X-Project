{
 "cells": [
  {
   "cell_type": "code",
   "execution_count": 146,
   "metadata": {},
   "outputs": [
    {
     "name": "stdout",
     "output_type": "stream",
     "text": [
      "Wall time: 0 ns\n"
     ]
    }
   ],
   "source": [
    "%%time\n",
    "# import libraries\n",
    "import csv\n",
    "import pandas as pd\n",
    "import urllib.request\n",
    "import time\n",
    "from bs4 import BeautifulSoup\n",
    "from selenium import webdriver\n",
    "from selenium.webdriver.common.keys import Keys"
   ]
  },
  {
   "cell_type": "code",
   "execution_count": 147,
   "metadata": {},
   "outputs": [
    {
     "name": "stdout",
     "output_type": "stream",
     "text": [
      "Wall time: 3.44 s\n"
     ]
    }
   ],
   "source": [
    "%%time\n",
    "# specify the browser and the url\n",
    "browser = webdriver.Chrome(r'C:\\Users\\Bhavya\\Desktop\\Todo\\Data-X Project\\Chromedriver.exe')\n",
    "base_url = u'https://twitter.com/search?l=en&q='\n",
    "query = u'%23bitcoin%20since%3A2009-12-02&src=typd&lang=en'\n",
    "url = base_url + query"
   ]
  },
  {
   "cell_type": "code",
   "execution_count": null,
   "metadata": {},
   "outputs": [
    {
     "name": "stdout",
     "output_type": "stream",
     "text": [
      "Wall time: 3.11 s\n"
     ]
    }
   ],
   "source": [
    "%%time\n",
    "browser.get(url)\n",
    "time.sleep(1)"
   ]
  },
  {
   "cell_type": "code",
   "execution_count": null,
   "metadata": {},
   "outputs": [],
   "source": [
    "%%time\n",
    "# Take out the <div> of name and get its value\n",
    "body = browser.find_element_by_tag_name('body')\n",
    "\n",
    "for _ in range(5000):\n",
    "    body.send_keys(Keys.PAGE_DOWN)\n",
    "    time.sleep(0.2)\n",
    "    \n",
    "tweets = browser.find_elements_by_class_name('tweet-text');\n",
    "tweet_time = browser.find_elements_by_class_name('time');\n",
    "tweet_list = [];\n",
    "tweet_times = [];\n",
    "# with open('index2.csv', 'a', encoding='utf-8') as csv_file:\n",
    "#     writer = csv.writer(csv_file)\n",
    "for tweet in tweets:\n",
    "    tweet_list.extend([tweet.text]);\n",
    "\n",
    "for tweet in tweet_time:\n",
    "    tweet_times.extend([tweet.find_element_by_css_selector('a').get_attribute('title')]);\n",
    "\n",
    "df = [];    \n",
    "d = dict(Tweet=tweet_list, Time=tweet_times)\n",
    "df = pd.DataFrame({k : pd.Series(v) for k, v in d.items()})"
   ]
  },
  {
   "cell_type": "code",
   "execution_count": 145,
   "metadata": {},
   "outputs": [
    {
     "data": {
      "text/plain": [
       "(157, 2)"
      ]
     },
     "execution_count": 145,
     "metadata": {},
     "output_type": "execute_result"
    }
   ],
   "source": [
    "df.shape"
   ]
  },
  {
   "cell_type": "code",
   "execution_count": 111,
   "metadata": {},
   "outputs": [
    {
     "data": {
      "text/plain": [
       "['7:55 PM - 3 Dec 2017',\n",
       " '6:45 PM - 3 Dec 2017',\n",
       " '3:26 PM - 3 Dec 2017',\n",
       " '11:41 AM - 3 Dec 2017',\n",
       " '5:02 PM - 3 Dec 2017',\n",
       " '5:32 PM - 3 Dec 2017',\n",
       " '1:38 AM - 4 Dec 2017',\n",
       " '1:11 AM - 4 Dec 2017',\n",
       " '11:09 PM - 3 Dec 2017',\n",
       " '6:38 PM - 3 Dec 2017',\n",
       " '4:14 PM - 3 Dec 2017',\n",
       " '10:52 AM - 3 Dec 2017',\n",
       " '12:35 AM - 4 Dec 2017',\n",
       " '5:55 PM - 3 Dec 2017',\n",
       " '3:38 PM - 3 Dec 2017',\n",
       " '12:11 AM - 4 Dec 2017',\n",
       " '1:05 AM - 4 Dec 2017',\n",
       " '11:52 PM - 3 Dec 2017',\n",
       " '1:52 AM - 4 Dec 2017',\n",
       " '1:57 AM - 4 Dec 2017']"
      ]
     },
     "execution_count": 111,
     "metadata": {},
     "output_type": "execute_result"
    }
   ],
   "source": [
    "tweet_times"
   ]
  },
  {
   "cell_type": "code",
   "execution_count": 112,
   "metadata": {},
   "outputs": [
    {
     "data": {
      "text/plain": [
       "['Bitcoin user adoption is currently at 0.95%. You are still part of the Innovator phase if you invested in #Bitcoin. ',\n",
       " 'Anyone who wants advice on #bitcoin, feel free to ask me. I’ll be here trying to answer your questions for the next hour.',\n",
       " \"I'm going to give away 0.5 litecoin!! To enter simply Retweet, Like, Follow and post your litecoin address!! #LTC #litecoin #BTC #bitcoin #ETH  #Free #Giveaway\",\n",
       " 'The total market capitalization just crossed $350 billion!\\nhttp://coinmarketcap.com/charts      \\n\\n#coinmarketcap #bitcoin #cryptocurrency #marketcap',\n",
       " 'Omg Dorian is so cool! He may not be THE satoshi, but he definitively has a great spirit! #labitconf #bitcoin ',\n",
       " 'Since 2012, #Bitcoin is up 200,000%.  Either this is the biggest bubble in history or something else is devaluing at a breakneck pace...  #WhatWouldModernHyperinflationLookLike',\n",
       " 'If #Bitcoin rise to $15,000, it will overtake the Rupee.\\nhttps://cointelegraph.com/news/bitcoin-is-6th-largest-currency-in-the-world-by-circulation …',\n",
       " '#France’s market regulator calls #Bitcoin a ‘dangerous illusion’ BUT said isn’t sure he’d want to regulate bitcoin because it has no link to the real economy.  https://www.bloomberg.com/news/articles/2017-12-04/france-s-market-regulator-calls-bitcoin-a-dangerous-illusion …',\n",
       " \"Who Wants Free $Mona?\\n\\nJust follow me and retweet this.\\n\\nI'll ask this follower to pick one person to send $Mona to. #bitcoin tips! \",\n",
       " 'The anonymous creator of #Bitcoin known only as Satoshi Nakamoto, is believed to be worth over $10 billion dollars.',\n",
       " \"Just as the platypus was initially dismissed by leading scientists as a fraud and hoax because its features crossed established boundaries, #Bitcoin is prematurely dismissed by today's high priests of finance. https://www.forbes.com/sites/spencerbogart/2017/12/03/bitcoin-is-a-platypus-the-story-of-category-creators/#50785f6f8a82 … #crypto\",\n",
       " 'Why is #Bitcoin so high? \\n1. Superior technology\\n2. Quantity is limited\\n3. Central banks are reckless \\n4. Global debt levels > 2008 \\n5. Prices are set at the margin, not stress tested\\n6. Bubbles now have global scale\\n... ',\n",
       " 'Venezuela Announces the Creation of Oil-Backed National Cryptocurrency – the Petro http://ift.tt/2A14SzM  #Bitcoin ',\n",
       " 'I think there was some confusion about my tweet of the #Bubble chart... to be clear, I was saying Global Equities looking more and more like a Bubble, NOT #Bitcoin. ',\n",
       " 'Sold #Bitcoin when it hit $11,350 and threw everything in to #xrp. As per much cryptocurrency news, seems like the best way to go.',\n",
       " 'It’s Not Really About #Bitcoin Price Surging, It’s Fiat Currencies In Free Fall. ',\n",
       " \"UK government will tighten #bitcoin regulations.\\n\\nBitcoin's market valuation surpassed British pound and the value of all British pound in circulation.\\n\\nYou can't crackdown on something that is bigger than you. Bitcoin does not need UK gov't's approval.\",\n",
       " 'Bitcoin money laundering. Who’d have thought it? #Bitcoin #BitcoinCash',\n",
       " '#Bitcoin ‘looks and smells’ like a bubble - investment guru Jim Rogers https://on.rt.com/8ts1 ',\n",
       " 'Who has watched it? #Bitcoin #BigBangBitcoin',\n",
       " 'Okay, I guess we have to talk about that \"Big Bang Theory\" Bitcoin episode ']"
      ]
     },
     "execution_count": 112,
     "metadata": {},
     "output_type": "execute_result"
    }
   ],
   "source": [
    "tweet_list"
   ]
  },
  {
   "cell_type": "code",
   "execution_count": null,
   "metadata": {
    "collapsed": true
   },
   "outputs": [],
   "source": []
  }
 ],
 "metadata": {
  "kernelspec": {
   "display_name": "Python 3",
   "language": "python",
   "name": "python3"
  },
  "language_info": {
   "codemirror_mode": {
    "name": "ipython",
    "version": 3
   },
   "file_extension": ".py",
   "mimetype": "text/x-python",
   "name": "python",
   "nbconvert_exporter": "python",
   "pygments_lexer": "ipython3",
   "version": "3.6.1"
  }
 },
 "nbformat": 4,
 "nbformat_minor": 2
}
